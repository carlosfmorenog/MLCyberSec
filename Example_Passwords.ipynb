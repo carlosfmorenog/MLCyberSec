{
  "cells": [
    {
      "cell_type": "markdown",
      "metadata": {
        "id": "dbG3zU5Z-LeD"
      },
      "source": [
        "# 1. Password Authentication in Python"
      ]
    },
    {
      "cell_type": "markdown",
      "metadata": {
        "id": "g9hwzV9S-LeE"
      },
      "source": [
        "In this activity, you will explore the logic of how Unix-based systems generate secure passwords by using the Python programming language."
      ]
    },
    {
      "cell_type": "markdown",
      "metadata": {
        "id": "_IGpckuF-LeG"
      },
      "source": [
        "# Importing the Necessary Modules"
      ]
    },
    {
      "cell_type": "markdown",
      "metadata": {
        "id": "57AmqB0T-LeH"
      },
      "source": [
        "To do this activity, you need to have the following python modules installed in your computer:\n",
        "\n",
        "* `passlib`\n",
        "\n",
        "In Python, you can use the command `!pip install ...` to install all the modules that you need (if you use the command prompt/terminal, you don't need the !)."
      ]
    },
    {
      "cell_type": "code",
      "execution_count": 1,
      "metadata": {
        "id": "AXvGXhEj-LeJ",
        "colab": {
          "base_uri": "https://localhost:8080/"
        },
        "outputId": "c5beadd8-c33a-43ab-c959-a8d818ea74b3"
      },
      "outputs": [
        {
          "output_type": "stream",
          "name": "stdout",
          "text": [
            "Requirement already satisfied: passlib in /usr/local/lib/python3.10/dist-packages (1.7.4)\n"
          ]
        }
      ],
      "source": [
        "!pip install passlib"
      ]
    },
    {
      "cell_type": "markdown",
      "metadata": {
        "id": "ouQb-sWt-LeM"
      },
      "source": [
        "Now import the installed module."
      ]
    },
    {
      "cell_type": "code",
      "execution_count": 2,
      "metadata": {
        "collapsed": true,
        "id": "LYPohdKI-LeO"
      },
      "outputs": [],
      "source": [
        "import passlib"
      ]
    },
    {
      "cell_type": "markdown",
      "metadata": {
        "id": "_HNTyuR3-LeP"
      },
      "source": [
        "# Creating a Password"
      ]
    },
    {
      "cell_type": "markdown",
      "metadata": {
        "id": "2HaSnEty-LeQ"
      },
      "source": [
        "The `passlib.hash` module contains all the password hash algoriths that have been used in the history of UNIX systems, such as DES, MD5 and SHA-256. To use them, you only have to import the hashing function and use it with the correct parameters.\n",
        "\n",
        "If you want to find out more about the currently active and inactive hashes in UNIX, check the following link: https://passlib.readthedocs.io/en/stable/lib/passlib.hash.html"
      ]
    },
    {
      "cell_type": "markdown",
      "metadata": {
        "id": "QVTs1cAO-LeR"
      },
      "source": [
        "## DES"
      ]
    },
    {
      "cell_type": "markdown",
      "metadata": {
        "id": "Xsjl6e32-LeS"
      },
      "source": [
        "First, we will test the classical DES hashing function. To do so, you need to import from the `passlib.hash` module the function called `des_crypt()`:\n",
        "\n",
        "* `from passlib.hash import des_crypt`\n",
        "\n",
        "Afterwards, you can call the hashing function by performing the following command:\n",
        "\n",
        "* `variable_to_store_password = des_crypt.hash(password)`"
      ]
    },
    {
      "cell_type": "code",
      "execution_count": 3,
      "metadata": {
        "id": "APrNYNnj-LeS",
        "colab": {
          "base_uri": "https://localhost:8080/"
        },
        "outputId": "6569a057-945f-4912-fcee-da3c756da8de"
      },
      "outputs": [
        {
          "output_type": "stream",
          "name": "stdout",
          "text": [
            "5JDFgz/lI5kM.\n"
          ]
        }
      ],
      "source": [
        "## Use this cell to import the DES hashing function and hash the password \"a\".\n",
        "## Store the result in variable \"deshash1\" and print your result.\n",
        "from passlib.hash import des_crypt\n",
        "deshash1 = des_crypt.hash(\"a\")\n",
        "print(deshash1)"
      ]
    },
    {
      "cell_type": "markdown",
      "metadata": {
        "id": "_EbfKq_N-LeU"
      },
      "source": [
        "Notice that if you call the function again to hash the same password, the output will be different"
      ]
    },
    {
      "cell_type": "code",
      "execution_count": 4,
      "metadata": {
        "id": "UZqRWJ9S-LeU",
        "colab": {
          "base_uri": "https://localhost:8080/",
          "height": 35
        },
        "outputId": "baa42308-53c2-47bb-a429-cc430adb5ede"
      },
      "outputs": [
        {
          "output_type": "execute_result",
          "data": {
            "text/plain": [
              "'asaTJdd99l0WM'"
            ],
            "application/vnd.google.colaboratory.intrinsic+json": {
              "type": "string"
            }
          },
          "metadata": {},
          "execution_count": 4
        }
      ],
      "source": [
        "## Use this cell to call the DES hashing function to hash password \"a\".\n",
        "## Store the result in variable \"deshash2\" and print your result.\n",
        "deshash2 = des_crypt.hash('a')\n",
        "deshash2"
      ]
    },
    {
      "cell_type": "markdown",
      "metadata": {
        "id": "cijSNS0Y-LeV"
      },
      "source": [
        "This is due to the fact that the algorithm has added **salt** and thus, it generates a different hash every time. You can specify the salt used by adding the salt keyword to the function as follows:\n",
        "\n",
        "* `deshash3 = des_crypt.hash('password', salt=string_with_two_characters)`\n",
        "\n",
        "Where the two characters used can be numbers 0-9, letters a-z, letters A-Z and special characters ./\n",
        "\n",
        "In practice, it is better **NOT** to specify the salt, because the aim is to obtain a random hash!"
      ]
    },
    {
      "cell_type": "code",
      "execution_count": 5,
      "metadata": {
        "id": "d3ejX92D-LeW",
        "colab": {
          "base_uri": "https://localhost:8080/",
          "height": 35
        },
        "outputId": "1818cb1e-1680-4826-b45d-d06e8e5494bd"
      },
      "outputs": [
        {
          "output_type": "execute_result",
          "data": {
            "text/plain": [
              "'0884v.jRPyncg'"
            ],
            "application/vnd.google.colaboratory.intrinsic+json": {
              "type": "string"
            }
          },
          "metadata": {},
          "execution_count": 5
        }
      ],
      "source": [
        "## Use this cell to call the DES hashing function to hash password \"a\" with the hash \"08\".\n",
        "## Store the result in variable \"deshash3\" and print your result.\n",
        "deshash3 = des_crypt.hash(\"a\", salt='08')\n",
        "deshash3"
      ]
    },
    {
      "cell_type": "markdown",
      "metadata": {
        "id": "_klcmcPd-LeW"
      },
      "source": [
        "You should obtain the hash **0884v.jRPyncg**. Notice that although salt was added, all passwords have the same length:"
      ]
    },
    {
      "cell_type": "code",
      "execution_count": 6,
      "metadata": {
        "id": "tuoBpBxG-LeX",
        "colab": {
          "base_uri": "https://localhost:8080/"
        },
        "outputId": "57bb793f-c769-479b-f407-b4f9ea62c44a"
      },
      "outputs": [
        {
          "output_type": "stream",
          "name": "stdout",
          "text": [
            "Size of deshash1: 13\n",
            "Size of deshash2: 13\n",
            "Size of deshash3: 13\n"
          ]
        }
      ],
      "source": [
        "## Run this cell to print the length of the DES hashes\n",
        "print('Size of deshash1:', len(deshash1))\n",
        "print('Size of deshash2:', len(deshash2))\n",
        "print('Size of deshash3:', len(deshash3))"
      ]
    },
    {
      "cell_type": "markdown",
      "metadata": {
        "id": "11MD55ry-LeX"
      },
      "source": [
        "### Verifying a password\n",
        "\n",
        "To validate an incoming password against your existing hashes, you can use the `verify()` function.\n",
        "\n",
        "* `des_crypt.verify(incoming_password, hashed_password)`"
      ]
    },
    {
      "cell_type": "code",
      "execution_count": 7,
      "metadata": {
        "id": "ca-F2BBX-LeY",
        "colab": {
          "base_uri": "https://localhost:8080/"
        },
        "outputId": "26b9d5d5-1e1d-414a-9b66-3569c4067381"
      },
      "outputs": [
        {
          "output_type": "stream",
          "name": "stdout",
          "text": [
            "False\n",
            "True\n",
            "True\n",
            "True\n"
          ]
        }
      ],
      "source": [
        "## Use this cell to verify different combinations of passwords against your three hashes.\n",
        "print(des_crypt.verify('ab', deshash1))\n",
        "print(des_crypt.verify('a', deshash1))\n",
        "print(des_crypt.verify('a', deshash2))\n",
        "print(des_crypt.verify('a', deshash3))"
      ]
    },
    {
      "cell_type": "markdown",
      "metadata": {
        "id": "0rUZXIjG-LeZ"
      },
      "source": [
        "### Why  is DES considered insecure?"
      ]
    },
    {
      "cell_type": "markdown",
      "metadata": {
        "id": "AHgiGzMU-LeZ"
      },
      "source": [
        "DES is no longer considered secure, for a variety of reasons:\n",
        "\n",
        "* Its use of the DES stream cipher, which is vulnerable to practical pre-image attacks, are considered broken, as well as having too-small key and block sizes.\n",
        "* The 12-bit salt is considered too small to defeat rainbow-table attacks (most modern algorithms provide at least a 48-bit salt).\n",
        "* The fact that it only uses the lower 7 bits of the first 8 bytes of the password results in a dangerously small keyspace which needs to be searched.\n",
        "\n",
        "Source: https://passlib.readthedocs.io/en/stable/lib/passlib.hash.des_crypt.html"
      ]
    },
    {
      "cell_type": "markdown",
      "metadata": {
        "id": "yEayxOVC-LeZ"
      },
      "source": [
        "## Other hashing functions"
      ]
    },
    {
      "cell_type": "markdown",
      "metadata": {
        "id": "cHpCvMsm-Lea"
      },
      "source": [
        "### MD5\n",
        "\n",
        "MD5 is more secure than DES and contains an option to specify the size of the salt. This is required by some standards such as Cisco compatible hashes, which require a salt size of four."
      ]
    },
    {
      "cell_type": "code",
      "execution_count": 8,
      "metadata": {
        "id": "svi2Rpvs-Lea",
        "colab": {
          "base_uri": "https://localhost:8080/",
          "height": 35
        },
        "outputId": "4bdb2061-b670-4612-90cb-ff09bf835af4"
      },
      "outputs": [
        {
          "output_type": "execute_result",
          "data": {
            "text/plain": [
              "'$1$OSZ4$c0hHHtku08CRL7BbtiBQe/'"
            ],
            "application/vnd.google.colaboratory.intrinsic+json": {
              "type": "string"
            }
          },
          "metadata": {},
          "execution_count": 8
        }
      ],
      "source": [
        "## Run this cell to generate the MD5 hash of password 'a' with a salt size of four\n",
        "from passlib.hash import md5_crypt\n",
        "md5hash = md5_crypt.hash(\"a\", salt_size = 4)\n",
        "md5hash"
      ]
    },
    {
      "cell_type": "code",
      "source": [
        "len(md5hash)"
      ],
      "metadata": {
        "colab": {
          "base_uri": "https://localhost:8080/"
        },
        "id": "sj7_ETbOAs1q",
        "outputId": "1b5365eb-be5f-498b-f791-d679379b6e93"
      },
      "execution_count": 9,
      "outputs": [
        {
          "output_type": "execute_result",
          "data": {
            "text/plain": [
              "30"
            ]
          },
          "metadata": {},
          "execution_count": 9
        }
      ]
    },
    {
      "cell_type": "markdown",
      "metadata": {
        "id": "0v5yy-l9-Leb"
      },
      "source": [
        "This hash appears to be more secure than the DES ones!"
      ]
    },
    {
      "cell_type": "markdown",
      "metadata": {
        "id": "UyP6ejQM-Lec"
      },
      "source": [
        "### Why is MD5 considered insecure?\n",
        "\n",
        "* It relies on the MD5 message digest, for which theoretical pre-image attacks exist.\n",
        "* Its fixed number of rounds (combined with the availability of high-throughput MD5 implementations) means this algorithm is increasingly vulnerable to brute force attacks.\n",
        "\n",
        "Source: https://passlib.readthedocs.io/en/stable/lib/passlib.hash.md5_crypt.html"
      ]
    },
    {
      "cell_type": "markdown",
      "metadata": {
        "id": "O5NPaND--Lec"
      },
      "source": [
        "## SHA-256"
      ]
    },
    {
      "cell_type": "markdown",
      "metadata": {
        "id": "ya14vsCN-Lec"
      },
      "source": [
        "This algorithm includes fixes and advancements, such as number of rounds and the use of cryptographic primitives, which are low level functions that further secure the password. In this case, the salt can be from 0 to 16 characters long."
      ]
    },
    {
      "cell_type": "code",
      "execution_count": 10,
      "metadata": {
        "id": "mpNq2MFB-Led",
        "colab": {
          "base_uri": "https://localhost:8080/"
        },
        "outputId": "3baa7721-4997-4946-f0f4-dc6bb8693a8c"
      },
      "outputs": [
        {
          "output_type": "stream",
          "name": "stdout",
          "text": [
            "$5$rounds=535000$qgfl9XlbWOAco2ll$PsdTMei3dTGawkNL04aDKKRJ2pJcz0H44SbmcdcA8S1 77\n",
            "$5$rounds=12345$gjPz.0r355vDx.X0$arULHPiINPRcEc52qfPq4cEMJVa99GPvOcfHcrqiqH6 76\n",
            "$5$rounds=535000$08$VYkpN7VWeleEgTXfcmOqffeeTmVk38mH.tIrIg9s6yA 63\n"
          ]
        }
      ],
      "source": [
        "## Run this cell to generate three hashes of password 'a'\n",
        "from passlib.hash import sha256_crypt\n",
        "\n",
        "# Regular hash\n",
        "shahash1 = sha256_crypt.hash(\"a\")\n",
        "print(shahash1, len(shahash1))\n",
        "\n",
        "# Same, but with explict number of rounds\n",
        "shahash2 = sha256_crypt.using(rounds=12345).hash(\"a\")\n",
        "print(shahash2, len(shahash2))\n",
        "\n",
        "# Same, but with explict salt\n",
        "shahash3 = sha256_crypt.hash(\"a\", salt = '08')\n",
        "print(shahash3, len(shahash3))"
      ]
    },
    {
      "cell_type": "markdown",
      "metadata": {
        "id": "PsekgB7e-Led"
      },
      "source": [
        "Notice that the hash specifies that SHA256 has been used (indicated by the 5) and the number of rounds used. Moreover, the size of the hashes will vary according to the size and rounds used."
      ]
    },
    {
      "cell_type": "code",
      "execution_count": 11,
      "metadata": {
        "id": "M2BLSEEY-Led",
        "colab": {
          "base_uri": "https://localhost:8080/"
        },
        "outputId": "d021c337-03a8-4d35-c1cb-226603212d32"
      },
      "outputs": [
        {
          "output_type": "stream",
          "name": "stdout",
          "text": [
            "Size of shahash1: 77\n",
            "Size of shahash2: 76\n",
            "Size of shahash3: 63\n"
          ]
        }
      ],
      "source": [
        "## Run this cell to print the length of the SHA-256 hashes\n",
        "print('Size of shahash1:', len(shahash1))\n",
        "print('Size of shahash2:', len(shahash2))\n",
        "print('Size of shahash3:', len(shahash3))"
      ]
    },
    {
      "cell_type": "markdown",
      "metadata": {
        "id": "H3glgia_-Lee"
      },
      "source": [
        "### Why is SHA-256 considered insecure?\n",
        "\n",
        "Even SHA256 has some security issues:\n",
        "\n",
        "* The algorithm’s initialisation stage contains a loop which varies linearly with the square of the password size; and further loops, which vary linearly as $password\\_size \\times rounds$.\n",
        "* This means an attacker could provide a maliciously large password at the login screen to attempt a DOS on a publically visible login. For example, a 32kb password would require hashing 1Gb of data. `Passlib` mitigates this by limiting the maximum password size to 4k by default.\n",
        "* An attacker could also theoretically determine a password’s size by observing the time taken on a successful login, and then attempting verification themselves to find the size password which has an equivalent delay. This has not been applied in practice, probably due to the fact that (for normal passwords $<64$ bytes), the contribution of the password size to the overall time taken is below the observable noise level when evesdropping on the timings of successful logins for a single user.\n",
        "\n",
        "Source: https://passlib.readthedocs.io/en/stable/lib/passlib.hash.sha256_crypt.html"
      ]
    },
    {
      "cell_type": "markdown",
      "metadata": {
        "id": "X4zshrod-Lee"
      },
      "source": [
        "## Cracking DES hashes\n",
        "\n",
        "A very intuitive way to crack a hash is by doing a **brute force attack**. This would consist mainly in exhaustively trying combinations of passwords and salts until a match is achieved.\n",
        "\n",
        "To implement a brute force attack for one-character long passwords, you can use the following code:"
      ]
    },
    {
      "cell_type": "code",
      "source": [
        "## This is a function that performs a brute force attack on DES hashe with salt (i.e. deshash3)\n",
        "## In this scenario, you have the advantage of knowing that the password to break is one character long,\n",
        "## and that the size of the salt is two characters long\n",
        "## Moreover, we will use the time module to calculate the time that the machine takes to crack the hash.\n",
        "import time\n",
        "\n",
        "# 1. Declare strings \"list_of_saltchars\" and \"list_of_passchars\"\n",
        "list_of_saltchars = \"0123456789abcdefghijklmnopqrstuvwxyzABCDEFGHIJKLMNOPQRSTUVWXYZ./\" # only these characters are accepted for salt\n",
        "list_of_passchars = \"0123456789abcdefghijklmnopqrstuvwxyzABCDEFGHIJKLMNOPQRSTUVWXYZ./\\-+%@,*\" # here you can have as many as you want\n",
        "def bruteForce(hashtobreak):\n",
        "# 2. Iterate the list of salt chars using two fors so that you can test all possible salt combinations\n",
        "    for i in list_of_saltchars:\n",
        "        for j in list_of_saltchars:\n",
        "            salt = i+j\n",
        "            # 3. For all characters in list_of_passchars, hash with the salt\n",
        "            for k in list_of_passchars:\n",
        "                # 4. If there is a match, exit and return the charcter\n",
        "                if des_crypt.verify(k, hashtobreak) == True:\n",
        "                    # 5. Return the broken password and the broken salt\n",
        "                    return k, salt\n",
        "\n",
        "t = time.time()\n",
        "deshash_break = des_crypt.hash(\"a\", salt=\"00\")\n",
        "brokenhash, brokensalt = bruteForce(deshash_break)\n",
        "print('The password is:', brokenhash)\n",
        "print('The salt is:', brokensalt)\n",
        "print('Elapsed time to break the hash:', time.time() - t,\"seconds\")"
      ],
      "metadata": {
        "id": "cZkF6bskp51f",
        "colab": {
          "base_uri": "https://localhost:8080/"
        },
        "outputId": "8911fd6d-3ec6-4480-dd68-50d74da8de7c"
      },
      "execution_count": 12,
      "outputs": [
        {
          "output_type": "stream",
          "name": "stdout",
          "text": [
            "The password is: a\n",
            "The salt is: 00\n",
            "Elapsed time to break the hash: 0.0021829605102539062 seconds\n"
          ]
        }
      ]
    },
    {
      "cell_type": "markdown",
      "metadata": {
        "id": "a65EWpMc-Lef"
      },
      "source": [
        "In a Windows 10 machine with 16 GB RAM, it takes around 0.55 seconds to break the password. In Google Colab it takes 0.04 seconds!"
      ]
    },
    {
      "cell_type": "markdown",
      "source": [
        "Now we try again, but with a salt that is further apart from the starting characters:"
      ],
      "metadata": {
        "id": "-R2VQupXpDRR"
      }
    },
    {
      "cell_type": "code",
      "execution_count": 13,
      "metadata": {
        "id": "PN-upm2--Lef",
        "colab": {
          "base_uri": "https://localhost:8080/"
        },
        "outputId": "1002e19c-4641-45b7-9b02-c981f08cbe8c"
      },
      "outputs": [
        {
          "output_type": "stream",
          "name": "stdout",
          "text": [
            "The password is: a\n",
            "The salt is: 00\n",
            "Elapsed time to break the hash: 0.001192331314086914 seconds\n"
          ]
        }
      ],
      "source": [
        "## This is a function that performs a brute force attack on DES hashe with salt (i.e. deshash3)\n",
        "## In this scenario, you have the advantage of knowing that the password to break is one character long,\n",
        "## and that the size of the salt is two characters long\n",
        "## Moreover, we will use the time module to calculate the time that the machine takes to crack the hash.\n",
        "import time\n",
        "\n",
        "# 1. Declare strings \"list_of_saltchars\" and \"list_of_passchars\"\n",
        "list_of_saltchars = \"0123456789abcdefghijklmnopqrstuvwxyzABCDEFGHIJKLMNOPQRSTUVWXYZ./\" # only these characters are accepted for salt\n",
        "list_of_passchars = \"0123456789abcdefghijklmnopqrstuvwxyzABCDEFGHIJKLMNOPQRSTUVWXYZ./\\-+%@,*\" # here you can have as many as you want\n",
        "def bruteForce(hashtobreak):\n",
        "# 2. Iterate the list of salt chars using two fors so that you can test all possible salt combinations\n",
        "    for i in list_of_saltchars:\n",
        "        for j in list_of_saltchars:\n",
        "            salt = i+j\n",
        "            # 3. For all characters in list_of_passchars, hash with the salt\n",
        "            for k in list_of_passchars:\n",
        "                # 4. If there is a match, exit and return the charcter\n",
        "                if des_crypt.verify(k, hashtobreak) == True:\n",
        "                    # 5. Return the broken password and the broken salt\n",
        "                    return k, salt\n",
        "\n",
        "t = time.time()\n",
        "deshash_break = des_crypt.hash(\"a\", salt='Zk')\n",
        "brokenhash, brokensalt = bruteForce(deshash_break)\n",
        "print('The password is:', brokenhash)\n",
        "print('The salt is:', brokensalt)\n",
        "print('Elapsed time to break the hash:', time.time() - t,\"seconds\")"
      ]
    },
    {
      "cell_type": "markdown",
      "source": [
        "Now we try again, but using the first two characters of the hash as the salt:"
      ],
      "metadata": {
        "id": "tMl9qTTWpL0W"
      }
    },
    {
      "cell_type": "code",
      "source": [
        "## This is a function that performs a brute force attack on DES hashe with salt (i.e. deshash3)\n",
        "## In this scenario, you have the advantage of knowing that the password to break is one character long,\n",
        "## and that the size of the salt is two characters long\n",
        "## Moreover, we will use the time module to calculate the time that the machine takes to crack the hash.\n",
        "import time\n",
        "\n",
        "# 1. Declare string  \"list_of_passchars\", we don't need salt since we'll take it from the hash.\n",
        "list_of_passchars = \"0123456789abcdefghijklmnopqrstuvwxyzABCDEFGHIJKLMNOPQRSTUVWXYZ./\\-+%@,*\" # here you can have as many as you want\n",
        "def bruteForce_new(hashtobreak):\n",
        "# 2. DIFFERENCE! NOW WE USE THE FIRST TWO CHARACTERS OF THE HASH AS THE SALT TO TRY!\n",
        "  salt = hashtobreak[0:2]\n",
        "  # 3. For all characters in list_of_passchars, hash with the salt\n",
        "  for k in list_of_passchars:\n",
        "      # 4. If there is a match, exit and return the charcter\n",
        "      if des_crypt.verify(k, hashtobreak) == True:\n",
        "          # 5. Return the broken password and the broken salt\n",
        "          return k, salt\n",
        "\n",
        "t = time.time()\n",
        "deshash_break = des_crypt.hash(\"a\", salt='XX')\n",
        "brokenhash, brokensalt = bruteForce_new(deshash_break)\n",
        "print('The password is:', brokenhash)\n",
        "print('The salt is:', brokensalt)\n",
        "print('The hash is:', deshash_break)\n",
        "print('Elapsed time to break the hash:', time.time() - t,\"seconds\")\n",
        "print('It took less time because the two first characters of the hash correspond to the salt!')"
      ],
      "metadata": {
        "id": "N9udvox1pX7Z",
        "colab": {
          "base_uri": "https://localhost:8080/"
        },
        "outputId": "0bd77fbf-748f-4cd5-d2cd-ad353817a7ff"
      },
      "execution_count": 14,
      "outputs": [
        {
          "output_type": "stream",
          "name": "stdout",
          "text": [
            "The password is: a\n",
            "The salt is: XX\n",
            "The hash is: XXvN4TwmfU6vk\n",
            "Elapsed time to break the hash: 0.005026578903198242 seconds\n",
            "It took less time because the two first characters of the hash correspond to the salt!\n"
          ]
        }
      ]
    },
    {
      "cell_type": "markdown",
      "metadata": {
        "id": "-3r5pVpP-Leg"
      },
      "source": [
        "**TASK**: Modify the code to be able to crack hashes created with passwords more than one character long."
      ]
    },
    {
      "cell_type": "code",
      "execution_count": 15,
      "metadata": {
        "id": "IfNFKekG-Leg",
        "colab": {
          "base_uri": "https://localhost:8080/"
        },
        "outputId": "73f2b35b-2103-41e4-e57c-4adccafda5aa"
      },
      "outputs": [
        {
          "output_type": "stream",
          "name": "stdout",
          "text": [
            "The password is: 0\n",
            "The salt is: 00\n",
            "Elapsed time to break the hash:  0.003991842269897461\n",
            "The password is: 00\n",
            "The salt is: 00\n",
            "Elapsed time to break the hash:  0.0053751468658447266\n",
            "The password is: 000\n",
            "The salt is: 00\n",
            "Elapsed time to break the hash:  0.13541579246520996\n",
            "The password is: 0000\n",
            "The salt is: 00\n",
            "Elapsed time to break the hash:  9.104938268661499\n"
          ]
        }
      ],
      "source": [
        "# Use this cell to write your improved code\n",
        "from passlib.hash import des_crypt\n",
        "import time\n",
        "\n",
        "# 1. Declare strings \"list_of_saltchars\" and \"list_of_passchars\"\n",
        "list_of_saltchars = \"0123456789abcdefghijklmnopqrstuvwxyzABCDEFGHIJKLMNOPQRSTUVWXYZ./\" # only these characters are accepted for salt\n",
        "list_of_passchars = \"0123456789abcdefghijklmnopqrstuvwxyzABCDEFGHIJKLMNOPQRSTUVWXYZ./\\-+%@,*\" # here you can have as many as you want\n",
        "def bruteForceImproved(hashtobreak):\n",
        "    # 2. Iterate the list of salt chars using two fors so that you can test all possible salt combinations\n",
        "    for i in list_of_saltchars:\n",
        "        for j in list_of_saltchars:\n",
        "            salt = i+j\n",
        "            # 3. For all characters in list_of_passchars, create a password by combining characters\n",
        "            password_size = 0\n",
        "            while True: # This while increments the size of the password indefinitely\n",
        "                password_size+=1\n",
        "                indexes = [0]*password_size # create a list to store the indexes to point\n",
        "                while sum(indexes)<(len(list_of_passchars)-1)*password_size:\n",
        "                    k = ''\n",
        "                    for a in indexes: # This for creates the password based on the values from the list indexes\n",
        "                        k = k + list_of_passchars[a]\n",
        "                    if des_crypt.verify(k, hashtobreak) == True:\n",
        "                        return k, salt\n",
        "                    # Increment the password vector\n",
        "                    flag = False\n",
        "                    for b, a in enumerate(indexes):\n",
        "                        if a<len(list_of_passchars)-1 and flag == False:\n",
        "                            indexes[b]+=1\n",
        "                            if b>0:\n",
        "                                for c in range(len(indexes[:b])):\n",
        "                                    indexes[c]=0\n",
        "                            flag = True\n",
        "\n",
        "###### 1-DIGIT PASSWORD\n",
        "t = time.time()\n",
        "## hash a new password\n",
        "deshash4 = des_crypt.hash('0', salt='00')\n",
        "## crack the password\n",
        "brokenhash, brokensalt = bruteForceImproved(deshash4)\n",
        "print('The password is:', brokenhash)\n",
        "print('The salt is:', brokensalt)\n",
        "print('Elapsed time to break the hash: ', time.time() - t)\n",
        "\n",
        "###### 2-DIGIT PASSWORD\n",
        "t = time.time()\n",
        "## hash a new password\n",
        "deshash4 = des_crypt.hash('00', salt='00')\n",
        "## crack the password\n",
        "brokenhash, brokensalt = bruteForceImproved(deshash4)\n",
        "print('The password is:', brokenhash)\n",
        "print('The salt is:', brokensalt)\n",
        "print('Elapsed time to break the hash: ', time.time() - t)\n",
        "\n",
        "###### 3-DIGIT PASSWORD\n",
        "t = time.time()\n",
        "## hash a new password\n",
        "deshash4 = des_crypt.hash('000', salt='00')\n",
        "## crack the password\n",
        "brokenhash, brokensalt = bruteForceImproved(deshash4)\n",
        "print('The password is:', brokenhash)\n",
        "print('The salt is:', brokensalt)\n",
        "print('Elapsed time to break the hash: ', time.time() - t)\n",
        "\n",
        "###### 4-DIGIT PASSWORD\n",
        "t = time.time()\n",
        "## hash a new password\n",
        "deshash4 = des_crypt.hash('0000', salt='00')\n",
        "## crack the password\n",
        "brokenhash, brokensalt = bruteForceImproved(deshash4)\n",
        "print('The password is:', brokenhash)\n",
        "print('The salt is:', brokensalt)\n",
        "print('Elapsed time to break the hash: ', time.time() - t)"
      ]
    },
    {
      "cell_type": "markdown",
      "metadata": {
        "id": "W0JRpJGi-Leh"
      },
      "source": [
        "You can see there is a vast difference in time, particularly between cracking a 3-digit and a 4-digit password."
      ]
    }
  ],
  "metadata": {
    "kernelspec": {
      "display_name": "Python 3",
      "language": "python",
      "name": "python3"
    },
    "language_info": {
      "codemirror_mode": {
        "name": "ipython",
        "version": 3
      },
      "file_extension": ".py",
      "mimetype": "text/x-python",
      "name": "python",
      "nbconvert_exporter": "python",
      "pygments_lexer": "ipython3",
      "version": "3.6.0"
    },
    "colab": {
      "provenance": []
    }
  },
  "nbformat": 4,
  "nbformat_minor": 0
}