{
  "cells": [
    {
      "cell_type": "markdown",
      "metadata": {
        "id": "dbG3zU5Z-LeD"
      },
      "source": [
        "# Password Authentication in Python"
      ]
    },
    {
      "cell_type": "markdown",
      "metadata": {
        "id": "g9hwzV9S-LeE"
      },
      "source": [
        "In this activity, you will explore the logic of how Unix-based systems generate secure passwords by using the Python programming language."
      ]
    },
    {
      "cell_type": "markdown",
      "metadata": {
        "id": "_IGpckuF-LeG"
      },
      "source": [
        "# Importing the Necessary Modules"
      ]
    },
    {
      "cell_type": "markdown",
      "metadata": {
        "id": "57AmqB0T-LeH"
      },
      "source": [
        "To do this activity, you need to have the following python modules installed in your computer:\n",
        "\n",
        "* `passlib`\n",
        "\n",
        "In Python, you can use the command `!pip install ...` to install all the modules that you need (if you use the command prompt/terminal, you don't need the !)."
      ]
    },
    {
      "cell_type": "code",
      "execution_count": 14,
      "metadata": {
        "colab": {
          "base_uri": "https://localhost:8080/"
        },
        "id": "AXvGXhEj-LeJ",
        "outputId": "b1a97085-8537-4607-a458-542c24320a32"
      },
      "outputs": [
        {
          "output_type": "stream",
          "name": "stdout",
          "text": [
            "Requirement already satisfied: passlib in /usr/local/lib/python3.10/dist-packages (1.7.4)\n"
          ]
        }
      ],
      "source": [
        "!pip install passlib"
      ]
    },
    {
      "cell_type": "markdown",
      "metadata": {
        "id": "ouQb-sWt-LeM"
      },
      "source": [
        "Now import the installed module."
      ]
    },
    {
      "cell_type": "code",
      "execution_count": 15,
      "metadata": {
        "collapsed": true,
        "id": "LYPohdKI-LeO"
      },
      "outputs": [],
      "source": [
        "import passlib"
      ]
    },
    {
      "cell_type": "code",
      "source": [
        "!pip freeze # use this command to verify that the package has been installed"
      ],
      "metadata": {
        "colab": {
          "base_uri": "https://localhost:8080/"
        },
        "id": "Vlznx376aAjX",
        "outputId": "6be99b08-d2aa-4ecc-e017-57a632caeef5"
      },
      "execution_count": 16,
      "outputs": [
        {
          "output_type": "stream",
          "name": "stdout",
          "text": [
            "absl-py==1.4.0\n",
            "aiohttp==3.9.5\n",
            "aiosignal==1.3.1\n",
            "alabaster==0.7.16\n",
            "albumentations==1.3.1\n",
            "altair==4.2.2\n",
            "annotated-types==0.7.0\n",
            "anyio==3.7.1\n",
            "argon2-cffi==23.1.0\n",
            "argon2-cffi-bindings==21.2.0\n",
            "array_record==0.5.1\n",
            "arviz==0.15.1\n",
            "astropy==5.3.4\n",
            "astunparse==1.6.3\n",
            "async-timeout==4.0.3\n",
            "atpublic==4.1.0\n",
            "attrs==23.2.0\n",
            "audioread==3.0.1\n",
            "autograd==1.6.2\n",
            "Babel==2.15.0\n",
            "backcall==0.2.0\n",
            "beautifulsoup4==4.12.3\n",
            "bidict==0.23.1\n",
            "bigframes==1.11.0\n",
            "bleach==6.1.0\n",
            "blinker==1.4\n",
            "blis==0.7.11\n",
            "blosc2==2.0.0\n",
            "bokeh==3.3.4\n",
            "bqplot==0.12.43\n",
            "branca==0.7.2\n",
            "build==1.2.1\n",
            "CacheControl==0.14.0\n",
            "cachetools==5.3.3\n",
            "catalogue==2.0.10\n",
            "certifi==2024.6.2\n",
            "cffi==1.16.0\n",
            "chardet==5.2.0\n",
            "charset-normalizer==3.3.2\n",
            "chex==0.1.86\n",
            "click==8.1.7\n",
            "click-plugins==1.1.1\n",
            "cligj==0.7.2\n",
            "cloudpathlib==0.18.1\n",
            "cloudpickle==2.2.1\n",
            "cmake==3.27.9\n",
            "cmdstanpy==1.2.4\n",
            "colorcet==3.1.0\n",
            "colorlover==0.3.0\n",
            "colour==0.1.5\n",
            "community==1.0.0b1\n",
            "confection==0.1.5\n",
            "cons==0.4.6\n",
            "contextlib2==21.6.0\n",
            "contourpy==1.2.1\n",
            "cryptography==42.0.8\n",
            "cuda-python==12.2.1\n",
            "cudf-cu12 @ https://pypi.nvidia.com/cudf-cu12/cudf_cu12-24.4.1-cp310-cp310-manylinux_2_28_x86_64.whl#sha256=57366e7ef09dc63e0b389aff20df6c37d91e2790065861ee31a4720149f5b694\n",
            "cufflinks==0.17.3\n",
            "cupy-cuda12x==12.2.0\n",
            "cvxopt==1.3.2\n",
            "cvxpy==1.3.4\n",
            "cycler==0.12.1\n",
            "cymem==2.0.8\n",
            "Cython==3.0.10\n",
            "dask==2023.8.1\n",
            "datascience==0.17.6\n",
            "db-dtypes==1.2.0\n",
            "dbus-python==1.2.18\n",
            "debugpy==1.6.6\n",
            "decorator==4.4.2\n",
            "defusedxml==0.7.1\n",
            "distributed==2023.8.1\n",
            "distro==1.7.0\n",
            "dlib==19.24.4\n",
            "dm-tree==0.1.8\n",
            "docstring_parser==0.16\n",
            "docutils==0.18.1\n",
            "dopamine_rl==4.0.9\n",
            "duckdb==0.10.3\n",
            "earthengine-api==0.1.409\n",
            "easydict==1.13\n",
            "ecos==2.0.14\n",
            "editdistance==0.6.2\n",
            "eerepr==0.0.4\n",
            "en-core-web-sm @ https://github.com/explosion/spacy-models/releases/download/en_core_web_sm-3.7.1/en_core_web_sm-3.7.1-py3-none-any.whl#sha256=86cc141f63942d4b2c5fcee06630fd6f904788d2f0ab005cce45aadb8fb73889\n",
            "entrypoints==0.4\n",
            "et-xmlfile==1.1.0\n",
            "etils==1.7.0\n",
            "etuples==0.3.9\n",
            "exceptiongroup==1.2.1\n",
            "fastai==2.7.15\n",
            "fastcore==1.5.48\n",
            "fastdownload==0.0.7\n",
            "fastjsonschema==2.20.0\n",
            "fastprogress==1.0.3\n",
            "fastrlock==0.8.2\n",
            "filelock==3.15.4\n",
            "fiona==1.9.6\n",
            "firebase-admin==5.3.0\n",
            "Flask==2.2.5\n",
            "flatbuffers==24.3.25\n",
            "flax==0.8.4\n",
            "folium==0.14.0\n",
            "fonttools==4.53.0\n",
            "frozendict==2.4.4\n",
            "frozenlist==1.4.1\n",
            "fsspec==2023.6.0\n",
            "future==0.18.3\n",
            "gast==0.6.0\n",
            "gcsfs==2023.6.0\n",
            "GDAL==3.6.4\n",
            "gdown==5.1.0\n",
            "geemap==0.32.1\n",
            "gensim==4.3.2\n",
            "geocoder==1.38.1\n",
            "geographiclib==2.0\n",
            "geopandas==0.13.2\n",
            "geopy==2.3.0\n",
            "gin-config==0.5.0\n",
            "glob2==0.7\n",
            "google==2.0.3\n",
            "google-ai-generativelanguage==0.6.4\n",
            "google-api-core==2.16.2\n",
            "google-api-python-client==2.84.0\n",
            "google-auth==2.27.0\n",
            "google-auth-httplib2==0.1.1\n",
            "google-auth-oauthlib==1.2.0\n",
            "google-cloud-aiplatform==1.57.0\n",
            "google-cloud-bigquery==3.21.0\n",
            "google-cloud-bigquery-connection==1.12.1\n",
            "google-cloud-bigquery-storage==2.25.0\n",
            "google-cloud-bigtable==2.24.0\n",
            "google-cloud-core==2.3.3\n",
            "google-cloud-datastore==2.15.2\n",
            "google-cloud-firestore==2.11.1\n",
            "google-cloud-functions==1.13.3\n",
            "google-cloud-iam==2.15.0\n",
            "google-cloud-language==2.13.3\n",
            "google-cloud-pubsub==2.21.5\n",
            "google-cloud-resource-manager==1.12.3\n",
            "google-cloud-storage==2.8.0\n",
            "google-cloud-translate==3.11.3\n",
            "google-colab @ file:///colabtools/dist/google-colab-1.0.0.tar.gz#sha256=9db45b02b9257690150b949c5becb6d56fa09d50ea41a2f189705915d83d86fa\n",
            "google-crc32c==1.5.0\n",
            "google-generativeai==0.5.4\n",
            "google-pasta==0.2.0\n",
            "google-resumable-media==2.7.1\n",
            "googleapis-common-protos==1.63.2\n",
            "googledrivedownloader==0.4\n",
            "graphviz==0.20.3\n",
            "greenlet==3.0.3\n",
            "grpc-google-iam-v1==0.13.1\n",
            "grpcio==1.64.1\n",
            "grpcio-status==1.48.2\n",
            "gspread==6.0.2\n",
            "gspread-dataframe==3.3.1\n",
            "gym==0.25.2\n",
            "gym-notices==0.0.8\n",
            "h5netcdf==1.3.0\n",
            "h5py==3.9.0\n",
            "holidays==0.52\n",
            "holoviews==1.17.1\n",
            "html5lib==1.1\n",
            "httpimport==1.3.1\n",
            "httplib2==0.22.0\n",
            "huggingface-hub==0.23.4\n",
            "humanize==4.7.0\n",
            "hyperopt==0.2.7\n",
            "ibis-framework==8.0.0\n",
            "idna==3.7\n",
            "imageio==2.31.6\n",
            "imageio-ffmpeg==0.5.1\n",
            "imagesize==1.4.1\n",
            "imbalanced-learn==0.10.1\n",
            "imgaug==0.4.0\n",
            "immutabledict==4.2.0\n",
            "importlib_metadata==8.0.0\n",
            "importlib_resources==6.4.0\n",
            "imutils==0.5.4\n",
            "inflect==7.0.0\n",
            "iniconfig==2.0.0\n",
            "intel-openmp==2023.2.4\n",
            "ipyevents==2.0.2\n",
            "ipyfilechooser==0.6.0\n",
            "ipykernel==5.5.6\n",
            "ipyleaflet==0.18.2\n",
            "ipyparallel==8.8.0\n",
            "ipython==7.34.0\n",
            "ipython-genutils==0.2.0\n",
            "ipython-sql==0.5.0\n",
            "ipytree==0.2.2\n",
            "ipywidgets==7.7.1\n",
            "itsdangerous==2.2.0\n",
            "jax==0.4.26\n",
            "jaxlib @ https://storage.googleapis.com/jax-releases/cuda12/jaxlib-0.4.26+cuda12.cudnn89-cp310-cp310-manylinux2014_x86_64.whl#sha256=813cf1fe3e7ca4dbf5327d6e7b4fc8521e92d8bba073ee645ae0d5d036a25750\n",
            "jeepney==0.7.1\n",
            "jellyfish==1.0.4\n",
            "jieba==0.42.1\n",
            "Jinja2==3.1.4\n",
            "joblib==1.4.2\n",
            "jsonpickle==3.2.2\n",
            "jsonschema==4.19.2\n",
            "jsonschema-specifications==2023.12.1\n",
            "jupyter-client==6.1.12\n",
            "jupyter-console==6.1.0\n",
            "jupyter-server==1.24.0\n",
            "jupyter_core==5.7.2\n",
            "jupyterlab_pygments==0.3.0\n",
            "jupyterlab_widgets==3.0.11\n",
            "kaggle==1.6.14\n",
            "kagglehub==0.2.5\n",
            "keras==2.15.0\n",
            "keyring==23.5.0\n",
            "kiwisolver==1.4.5\n",
            "langcodes==3.4.0\n",
            "language_data==1.2.0\n",
            "launchpadlib==1.10.16\n",
            "lazr.restfulclient==0.14.4\n",
            "lazr.uri==1.0.6\n",
            "lazy_loader==0.4\n",
            "libclang==18.1.1\n",
            "librosa==0.10.2.post1\n",
            "lightgbm==4.1.0\n",
            "linkify-it-py==2.0.3\n",
            "llvmlite==0.41.1\n",
            "locket==1.0.0\n",
            "logical-unification==0.4.6\n",
            "lxml==4.9.4\n",
            "malloy==2023.1067\n",
            "marisa-trie==1.2.0\n",
            "Markdown==3.6\n",
            "markdown-it-py==3.0.0\n",
            "MarkupSafe==2.1.5\n",
            "matplotlib==3.7.1\n",
            "matplotlib-inline==0.1.7\n",
            "matplotlib-venn==0.11.10\n",
            "mdit-py-plugins==0.4.1\n",
            "mdurl==0.1.2\n",
            "miniKanren==1.0.3\n",
            "missingno==0.5.2\n",
            "mistune==0.8.4\n",
            "mizani==0.9.3\n",
            "mkl==2023.2.0\n",
            "ml-dtypes==0.2.0\n",
            "mlxtend==0.22.0\n",
            "more-itertools==10.1.0\n",
            "moviepy==1.0.3\n",
            "mpmath==1.3.0\n",
            "msgpack==1.0.8\n",
            "multidict==6.0.5\n",
            "multipledispatch==1.0.0\n",
            "multitasking==0.0.11\n",
            "murmurhash==1.0.10\n",
            "music21==9.1.0\n",
            "natsort==8.4.0\n",
            "nbclassic==1.1.0\n",
            "nbclient==0.10.0\n",
            "nbconvert==6.5.4\n",
            "nbformat==5.10.4\n",
            "nest-asyncio==1.6.0\n",
            "networkx==3.3\n",
            "nibabel==4.0.2\n",
            "nltk==3.8.1\n",
            "notebook==6.5.5\n",
            "notebook_shim==0.2.4\n",
            "numba==0.58.1\n",
            "numexpr==2.10.1\n",
            "numpy==1.25.2\n",
            "nvtx==0.2.10\n",
            "oauth2client==4.1.3\n",
            "oauthlib==3.2.2\n",
            "opencv-contrib-python==4.8.0.76\n",
            "opencv-python==4.8.0.76\n",
            "opencv-python-headless==4.10.0.84\n",
            "openpyxl==3.1.5\n",
            "opt-einsum==3.3.0\n",
            "optax==0.2.2\n",
            "orbax-checkpoint==0.4.4\n",
            "osqp==0.6.2.post8\n",
            "packaging==24.1\n",
            "pandas==2.0.3\n",
            "pandas-datareader==0.10.0\n",
            "pandas-gbq==0.19.2\n",
            "pandas-stubs==2.0.3.230814\n",
            "pandocfilters==1.5.1\n",
            "panel==1.3.8\n",
            "param==2.1.1\n",
            "parso==0.8.4\n",
            "parsy==2.1\n",
            "partd==1.4.2\n",
            "passlib==1.7.4\n",
            "pathlib==1.0.1\n",
            "patsy==0.5.6\n",
            "peewee==3.17.5\n",
            "pexpect==4.9.0\n",
            "pickleshare==0.7.5\n",
            "Pillow==9.4.0\n",
            "pip-tools==6.13.0\n",
            "platformdirs==4.2.2\n",
            "plotly==5.15.0\n",
            "plotnine==0.12.4\n",
            "pluggy==1.5.0\n",
            "polars==0.20.2\n",
            "pooch==1.8.2\n",
            "portpicker==1.5.2\n",
            "prefetch-generator==1.0.3\n",
            "preshed==3.0.9\n",
            "prettytable==3.10.0\n",
            "proglog==0.1.10\n",
            "progressbar2==4.2.0\n",
            "prometheus_client==0.20.0\n",
            "promise==2.3\n",
            "prompt_toolkit==3.0.47\n",
            "prophet==1.1.5\n",
            "proto-plus==1.24.0\n",
            "protobuf==3.20.3\n",
            "psutil==5.9.5\n",
            "psycopg2==2.9.9\n",
            "ptyprocess==0.7.0\n",
            "py-cpuinfo==9.0.0\n",
            "py4j==0.10.9.7\n",
            "pyarrow==14.0.2\n",
            "pyarrow-hotfix==0.6\n",
            "pyasn1==0.6.0\n",
            "pyasn1_modules==0.4.0\n",
            "pycocotools==2.0.8\n",
            "pycparser==2.22\n",
            "pydantic==2.8.0\n",
            "pydantic_core==2.20.0\n",
            "pydata-google-auth==1.8.2\n",
            "pydot==1.4.2\n",
            "pydot-ng==2.0.0\n",
            "pydotplus==2.0.2\n",
            "PyDrive==1.3.1\n",
            "PyDrive2==1.6.3\n",
            "pyerfa==2.0.1.4\n",
            "pygame==2.6.0\n",
            "Pygments==2.16.1\n",
            "PyGObject==3.42.1\n",
            "PyJWT==2.3.0\n",
            "pymc==5.10.4\n",
            "pymystem3==0.2.0\n",
            "pynvjitlink-cu12==0.2.4\n",
            "PyOpenGL==3.1.7\n",
            "pyOpenSSL==24.1.0\n",
            "pyparsing==3.1.2\n",
            "pyperclip==1.9.0\n",
            "pyproj==3.6.1\n",
            "pyproject_hooks==1.1.0\n",
            "pyshp==2.3.1\n",
            "PySocks==1.7.1\n",
            "pytensor==2.18.6\n",
            "pytest==7.4.4\n",
            "python-apt @ file:///backend-container/containers/python_apt-0.0.0-cp310-cp310-linux_x86_64.whl#sha256=b209c7165d6061963abe611492f8c91c3bcef4b7a6600f966bab58900c63fefa\n",
            "python-box==7.2.0\n",
            "python-dateutil==2.8.2\n",
            "python-louvain==0.16\n",
            "python-slugify==8.0.4\n",
            "python-utils==3.8.2\n",
            "pytz==2023.4\n",
            "pyviz_comms==3.0.2\n",
            "PyWavelets==1.6.0\n",
            "PyYAML==6.0.1\n",
            "pyzmq==24.0.1\n",
            "qdldl==0.1.7.post4\n",
            "qudida==0.0.4\n",
            "ratelim==0.1.6\n",
            "referencing==0.35.1\n",
            "regex==2024.5.15\n",
            "requests==2.31.0\n",
            "requests-oauthlib==1.3.1\n",
            "requirements-parser==0.9.0\n",
            "rich==13.7.1\n",
            "rmm-cu12==24.4.0\n",
            "rpds-py==0.18.1\n",
            "rpy2==3.4.2\n",
            "rsa==4.9\n",
            "safetensors==0.4.3\n",
            "scikit-image==0.19.3\n",
            "scikit-learn==1.2.2\n",
            "scipy==1.11.4\n",
            "scooby==0.10.0\n",
            "scs==3.2.5\n",
            "seaborn==0.13.1\n",
            "SecretStorage==3.3.1\n",
            "Send2Trash==1.8.3\n",
            "sentencepiece==0.1.99\n",
            "shapely==2.0.4\n",
            "shellingham==1.5.4\n",
            "simple_parsing==0.1.5\n",
            "six==1.16.0\n",
            "sklearn-pandas==2.2.0\n",
            "smart-open==7.0.4\n",
            "sniffio==1.3.1\n",
            "snowballstemmer==2.2.0\n",
            "sortedcontainers==2.4.0\n",
            "soundfile==0.12.1\n",
            "soupsieve==2.5\n",
            "soxr==0.3.7\n",
            "spacy==3.7.5\n",
            "spacy-legacy==3.0.12\n",
            "spacy-loggers==1.0.5\n",
            "Sphinx==5.0.2\n",
            "sphinxcontrib-applehelp==1.0.8\n",
            "sphinxcontrib-devhelp==1.0.6\n",
            "sphinxcontrib-htmlhelp==2.0.5\n",
            "sphinxcontrib-jsmath==1.0.1\n",
            "sphinxcontrib-qthelp==1.0.7\n",
            "sphinxcontrib-serializinghtml==1.1.10\n",
            "SQLAlchemy==2.0.31\n",
            "sqlglot==20.11.0\n",
            "sqlparse==0.5.0\n",
            "srsly==2.4.8\n",
            "stanio==0.5.0\n",
            "statsmodels==0.14.2\n",
            "StrEnum==0.4.15\n",
            "sympy==1.12.1\n",
            "tables==3.8.0\n",
            "tabulate==0.9.0\n",
            "tbb==2021.13.0\n",
            "tblib==3.0.0\n",
            "tenacity==8.4.2\n",
            "tensorboard==2.15.2\n",
            "tensorboard-data-server==0.7.2\n",
            "tensorflow @ https://storage.googleapis.com/colab-tf-builds-public-09h6ksrfwbb9g9xv/tensorflow-2.15.0-cp310-cp310-manylinux_2_17_x86_64.manylinux2014_x86_64.whl#sha256=a2ec79931350b378c1ef300ca836b52a55751acb71a433582508a07f0de57c42\n",
            "tensorflow-datasets==4.9.6\n",
            "tensorflow-estimator==2.15.0\n",
            "tensorflow-gcs-config==2.15.0\n",
            "tensorflow-hub==0.16.1\n",
            "tensorflow-io-gcs-filesystem==0.37.0\n",
            "tensorflow-metadata==1.15.0\n",
            "tensorflow-probability==0.23.0\n",
            "tensorstore==0.1.45\n",
            "termcolor==2.4.0\n",
            "terminado==0.18.1\n",
            "text-unidecode==1.3\n",
            "textblob==0.17.1\n",
            "tf-slim==1.1.0\n",
            "tf_keras==2.15.1\n",
            "thinc==8.2.5\n",
            "threadpoolctl==3.5.0\n",
            "tifffile==2024.6.18\n",
            "tinycss2==1.3.0\n",
            "tokenizers==0.19.1\n",
            "toml==0.10.2\n",
            "tomli==2.0.1\n",
            "toolz==0.12.1\n",
            "torch @ https://download.pytorch.org/whl/cu121/torch-2.3.0%2Bcu121-cp310-cp310-linux_x86_64.whl#sha256=0a12aa9aa6bc442dff8823ac8b48d991fd0771562eaa38593f9c8196d65f7007\n",
            "torchaudio @ https://download.pytorch.org/whl/cu121/torchaudio-2.3.0%2Bcu121-cp310-cp310-linux_x86_64.whl#sha256=38b49393f8c322dcaa29d19e5acbf5a0b1978cf1b719445ab670f1fb486e3aa6\n",
            "torchsummary==1.5.1\n",
            "torchtext==0.18.0\n",
            "torchvision @ https://download.pytorch.org/whl/cu121/torchvision-0.18.0%2Bcu121-cp310-cp310-linux_x86_64.whl#sha256=13e1b48dc5ce41ccb8100ab3dd26fdf31d8f1e904ecf2865ac524493013d0df5\n",
            "tornado==6.3.3\n",
            "tqdm==4.66.4\n",
            "traitlets==5.7.1\n",
            "traittypes==0.2.1\n",
            "transformers==4.41.2\n",
            "triton==2.3.0\n",
            "tweepy==4.14.0\n",
            "typer==0.12.3\n",
            "types-pytz==2024.1.0.20240417\n",
            "types-setuptools==70.1.0.20240627\n",
            "typing_extensions==4.12.2\n",
            "tzdata==2024.1\n",
            "tzlocal==5.2\n",
            "uc-micro-py==1.0.3\n",
            "uritemplate==4.1.1\n",
            "urllib3==2.0.7\n",
            "vega-datasets==0.9.0\n",
            "wadllib==1.3.6\n",
            "wasabi==1.1.3\n",
            "wcwidth==0.2.13\n",
            "weasel==0.4.1\n",
            "webcolors==24.6.0\n",
            "webencodings==0.5.1\n",
            "websocket-client==1.8.0\n",
            "Werkzeug==3.0.3\n",
            "widgetsnbextension==3.6.6\n",
            "wordcloud==1.9.3\n",
            "wrapt==1.14.1\n",
            "xarray==2023.7.0\n",
            "xarray-einstats==0.7.0\n",
            "xgboost==2.0.3\n",
            "xlrd==2.0.1\n",
            "xyzservices==2024.6.0\n",
            "yarl==1.9.4\n",
            "yellowbrick==1.5\n",
            "yfinance==0.2.40\n",
            "zict==3.0.0\n",
            "zipp==3.19.2\n"
          ]
        }
      ]
    },
    {
      "cell_type": "markdown",
      "metadata": {
        "id": "_HNTyuR3-LeP"
      },
      "source": [
        "# Creating a Password"
      ]
    },
    {
      "cell_type": "markdown",
      "metadata": {
        "id": "2HaSnEty-LeQ"
      },
      "source": [
        "The `passlib.hash` module contains all the password hash algoriths that have been used in the history of UNIX systems, such as DES, MD5 and SHA-256. To use them, you only have to import the hashing function and use it with the correct parameters.\n",
        "\n",
        "If you want to find out more about the currently active and inactive hashes in UNIX, check the following link: https://passlib.readthedocs.io/en/stable/lib/passlib.hash.html"
      ]
    },
    {
      "cell_type": "markdown",
      "metadata": {
        "id": "QVTs1cAO-LeR"
      },
      "source": [
        "## DES"
      ]
    },
    {
      "cell_type": "markdown",
      "metadata": {
        "id": "Xsjl6e32-LeS"
      },
      "source": [
        "First, we will test the classical DES hashing function. To do so, you need to import from the `passlib.hash` module the function called `des_crypt()`:\n",
        "\n",
        "* `from passlib.hash import des_crypt`\n",
        "\n",
        "Afterwards, you can call the hashing function by performing the following command:\n",
        "\n",
        "* `variable_to_store_password = des_crypt.hash(password)`"
      ]
    },
    {
      "cell_type": "code",
      "execution_count": 17,
      "metadata": {
        "colab": {
          "base_uri": "https://localhost:8080/"
        },
        "id": "APrNYNnj-LeS",
        "outputId": "5ca2db6a-7dfc-434f-a661-23cc41245936"
      },
      "outputs": [
        {
          "output_type": "stream",
          "name": "stdout",
          "text": [
            "mvfl31jcp3uDc\n"
          ]
        }
      ],
      "source": [
        "## Use this cell to import the DES hashing function and hash the password \"a\".\n",
        "## Store the result in variable \"deshash1\" and print your result.\n",
        "from passlib.hash import des_crypt\n",
        "deshash1 = des_crypt.hash(\"a\")\n",
        "print(deshash1) # note that with print you CANNOT copy text!"
      ]
    },
    {
      "cell_type": "markdown",
      "metadata": {
        "id": "_EbfKq_N-LeU"
      },
      "source": [
        "Notice that if you call the function again to hash the same password, the output will be different"
      ]
    },
    {
      "cell_type": "code",
      "execution_count": 18,
      "metadata": {
        "colab": {
          "base_uri": "https://localhost:8080/",
          "height": 36
        },
        "id": "UZqRWJ9S-LeU",
        "outputId": "e3740e29-bd2d-4f0a-c851-cfc7936eb1c4"
      },
      "outputs": [
        {
          "output_type": "execute_result",
          "data": {
            "text/plain": [
              "'mAjHmrhvdEtA6'"
            ],
            "application/vnd.google.colaboratory.intrinsic+json": {
              "type": "string"
            }
          },
          "metadata": {},
          "execution_count": 18
        }
      ],
      "source": [
        "## Use this cell to call the DES hashing function to hash password \"a\".\n",
        "## Store the result in variable \"deshash2\" and print your result.\n",
        "deshash2 = des_crypt.hash('a')\n",
        "deshash2 # if you don't put print you can copy, but you can onyl print one variable per code cell"
      ]
    },
    {
      "cell_type": "markdown",
      "metadata": {
        "id": "cijSNS0Y-LeV"
      },
      "source": [
        "This is due to the fact that the algorithm has added **salt** and thus, it generates a different hash every time. You can specify the salt used by adding the salt keyword to the function as follows:\n",
        "\n",
        "* `deshash3 = des_crypt.hash('password', salt=string_with_two_characters)`\n",
        "\n",
        "Where the two characters used can be numbers 0-9, letters a-z, letters A-Z and special characters ./\n",
        "\n",
        "In practice, it is better **NOT** to specify the salt, because the aim is to obtain a random hash!"
      ]
    },
    {
      "cell_type": "code",
      "execution_count": 19,
      "metadata": {
        "colab": {
          "base_uri": "https://localhost:8080/",
          "height": 36
        },
        "id": "d3ejX92D-LeW",
        "outputId": "0287a0a5-0b6b-45a5-c04e-fa8d1598fe6f"
      },
      "outputs": [
        {
          "output_type": "execute_result",
          "data": {
            "text/plain": [
              "'0884v.jRPyncg'"
            ],
            "application/vnd.google.colaboratory.intrinsic+json": {
              "type": "string"
            }
          },
          "metadata": {},
          "execution_count": 19
        }
      ],
      "source": [
        "## Use this cell to call the DES hashing function to hash password \"a\" with the hash \"08\".\n",
        "## Store the result in variable \"deshash3\" and print your result.\n",
        "deshash3 = des_crypt.hash(\"a\", salt='08')\n",
        "deshash3"
      ]
    },
    {
      "cell_type": "markdown",
      "metadata": {
        "id": "_klcmcPd-LeW"
      },
      "source": [
        "You should obtain the hash **0884v.jRPyncg**. Notice that although salt was added, all passwords have the same length:"
      ]
    },
    {
      "cell_type": "code",
      "execution_count": 20,
      "metadata": {
        "colab": {
          "base_uri": "https://localhost:8080/"
        },
        "id": "tuoBpBxG-LeX",
        "outputId": "340dc887-c02a-4b06-e35f-a9e79270052b"
      },
      "outputs": [
        {
          "output_type": "stream",
          "name": "stdout",
          "text": [
            "Size of deshash1: 13\n",
            "Size of deshash2: 13\n",
            "Size of deshash3: 13\n"
          ]
        }
      ],
      "source": [
        "## Run this cell to print the length of the DES hashes\n",
        "print('Size of deshash1:', len(deshash1))\n",
        "print('Size of deshash2:', len(deshash2))\n",
        "print('Size of deshash3:', len(deshash3))"
      ]
    },
    {
      "cell_type": "markdown",
      "metadata": {
        "id": "11MD55ry-LeX"
      },
      "source": [
        "### Verifying a password\n",
        "\n",
        "To validate an incoming password against your existing hashes, you can use the `verify()` function.\n",
        "\n",
        "* `des_crypt.verify(incoming_password, hashed_password)`"
      ]
    },
    {
      "cell_type": "code",
      "execution_count": 21,
      "metadata": {
        "colab": {
          "base_uri": "https://localhost:8080/"
        },
        "id": "ca-F2BBX-LeY",
        "outputId": "d417187a-b4de-4802-b991-c67779acab85"
      },
      "outputs": [
        {
          "output_type": "stream",
          "name": "stdout",
          "text": [
            "False\n",
            "True\n",
            "True\n",
            "True\n"
          ]
        }
      ],
      "source": [
        "## Use this cell to verify different combinations of passwords against your three hashes.\n",
        "print(des_crypt.verify('ab', deshash1))\n",
        "print(des_crypt.verify('a', deshash1))\n",
        "print(des_crypt.verify('a', deshash2))\n",
        "print(des_crypt.verify('a', deshash3))"
      ]
    },
    {
      "cell_type": "markdown",
      "metadata": {
        "id": "0rUZXIjG-LeZ"
      },
      "source": [
        "### Why  is DES considered insecure?"
      ]
    },
    {
      "cell_type": "markdown",
      "metadata": {
        "id": "AHgiGzMU-LeZ"
      },
      "source": [
        "DES is no longer considered secure, for a variety of reasons:\n",
        "\n",
        "* Its use of the DES stream cipher, which is vulnerable to practical pre-image attacks, are considered broken, as well as having too-small key and block sizes.\n",
        "* The 12-bit salt is considered too small to defeat rainbow-table attacks (most modern algorithms provide at least a 48-bit salt).\n",
        "* The fact that it only uses the lower 7 bits of the first 8 bytes of the password results in a dangerously small keyspace which needs to be searched.\n",
        "\n",
        "Source: https://passlib.readthedocs.io/en/stable/lib/passlib.hash.des_crypt.html"
      ]
    },
    {
      "cell_type": "markdown",
      "metadata": {
        "id": "yEayxOVC-LeZ"
      },
      "source": [
        "## Other hashing functions"
      ]
    },
    {
      "cell_type": "markdown",
      "metadata": {
        "id": "cHpCvMsm-Lea"
      },
      "source": [
        "### MD5\n",
        "\n",
        "MD5 is more secure than DES and contains an option to specify the size of the salt. This is required by some standards such as Cisco compatible hashes, which require a salt size of four."
      ]
    },
    {
      "cell_type": "code",
      "execution_count": 22,
      "metadata": {
        "colab": {
          "base_uri": "https://localhost:8080/",
          "height": 36
        },
        "id": "svi2Rpvs-Lea",
        "outputId": "ab064ef3-b897-411c-c70a-588054e4415d"
      },
      "outputs": [
        {
          "output_type": "execute_result",
          "data": {
            "text/plain": [
              "'$1$iC5o$TTLhvgqgwXfcUR1R5dpU0.'"
            ],
            "application/vnd.google.colaboratory.intrinsic+json": {
              "type": "string"
            }
          },
          "metadata": {},
          "execution_count": 22
        }
      ],
      "source": [
        "## Run this cell to generate the MD5 hash of password 'a' with a salt size of four\n",
        "from passlib.hash import md5_crypt\n",
        "md5hash = md5_crypt.hash(\"a\", salt_size = 4)\n",
        "md5hash"
      ]
    },
    {
      "cell_type": "code",
      "execution_count": 23,
      "metadata": {
        "colab": {
          "base_uri": "https://localhost:8080/"
        },
        "id": "sj7_ETbOAs1q",
        "outputId": "c14ac502-3df7-4b76-92c7-67f63d5bc88d"
      },
      "outputs": [
        {
          "output_type": "execute_result",
          "data": {
            "text/plain": [
              "30"
            ]
          },
          "metadata": {},
          "execution_count": 23
        }
      ],
      "source": [
        "len(md5hash)"
      ]
    },
    {
      "cell_type": "markdown",
      "metadata": {
        "id": "0v5yy-l9-Leb"
      },
      "source": [
        "This hash appears to be more secure than the DES ones!"
      ]
    },
    {
      "cell_type": "markdown",
      "metadata": {
        "id": "UyP6ejQM-Lec"
      },
      "source": [
        "### Why is MD5 considered insecure?\n",
        "\n",
        "* It relies on the MD5 message digest, for which theoretical pre-image attacks exist.\n",
        "* Its fixed number of rounds (combined with the availability of high-throughput MD5 implementations) means this algorithm is increasingly vulnerable to brute force attacks.\n",
        "\n",
        "Source: https://passlib.readthedocs.io/en/stable/lib/passlib.hash.md5_crypt.html"
      ]
    },
    {
      "cell_type": "markdown",
      "metadata": {
        "id": "O5NPaND--Lec"
      },
      "source": [
        "## SHA-256"
      ]
    },
    {
      "cell_type": "markdown",
      "metadata": {
        "id": "ya14vsCN-Lec"
      },
      "source": [
        "This algorithm includes fixes and advancements, such as number of rounds and the use of cryptographic primitives, which are low level functions that further secure the password. In this case, the salt can be from 0 to 16 characters long."
      ]
    },
    {
      "cell_type": "code",
      "execution_count": 24,
      "metadata": {
        "id": "mpNq2MFB-Led",
        "colab": {
          "base_uri": "https://localhost:8080/"
        },
        "outputId": "51057b9d-cb22-44b4-9dd6-572fd04b1def"
      },
      "outputs": [
        {
          "output_type": "stream",
          "name": "stdout",
          "text": [
            "$5$rounds=535000$VwElCq1tV1E6EEeN$6PdZSanFMH9TmCOs17VFf/gsNz6tcAODqXSByvso8y8\n",
            "$5$rounds=12345$B4T0/piL3L41lMPD$Bc6Z/mE6LqaCIeTTITfk7PvwaBhPUb8FZxnQwcD9GJ4\n",
            "$5$rounds=535000$08$VYkpN7VWeleEgTXfcmOqffeeTmVk38mH.tIrIg9s6yA\n"
          ]
        }
      ],
      "source": [
        "## Run this cell to generate three hashes of password 'a'\n",
        "from passlib.hash import sha256_crypt\n",
        "\n",
        "# Regular hash\n",
        "shahash1 = sha256_crypt.hash(\"a\")\n",
        "print(shahash1)\n",
        "\n",
        "# Same, but with explict number of rounds\n",
        "shahash2 = sha256_crypt.using(rounds=12345).hash(\"a\")\n",
        "print(shahash2)\n",
        "\n",
        "# Same, but with explict salt\n",
        "shahash3 = sha256_crypt.hash(\"a\", salt = '08')\n",
        "print(shahash3)"
      ]
    },
    {
      "cell_type": "markdown",
      "metadata": {
        "id": "PsekgB7e-Led"
      },
      "source": [
        "Notice that the hash specifies that SHA256 has been used (indicated by the 5) and the number of rounds used. Moreover, the size of the hashes will vary according to the size and rounds used."
      ]
    },
    {
      "cell_type": "code",
      "execution_count": 25,
      "metadata": {
        "id": "M2BLSEEY-Led",
        "colab": {
          "base_uri": "https://localhost:8080/"
        },
        "outputId": "c88d6066-a1e4-42ee-e19f-6016800a635c"
      },
      "outputs": [
        {
          "output_type": "stream",
          "name": "stdout",
          "text": [
            "Size of shahash1: 77\n",
            "Size of shahash2: 76\n",
            "Size of shahash3: 63\n"
          ]
        }
      ],
      "source": [
        "## Run this cell to print the length of the SHA-256 hashes\n",
        "print('Size of shahash1:', len(shahash1))\n",
        "print('Size of shahash2:', len(shahash2))\n",
        "print('Size of shahash3:', len(shahash3))"
      ]
    },
    {
      "cell_type": "markdown",
      "metadata": {
        "id": "H3glgia_-Lee"
      },
      "source": [
        "### Why is SHA-256 considered insecure?\n",
        "\n",
        "Even SHA256 has some security issues:\n",
        "\n",
        "* The algorithm’s initialisation stage contains a loop which varies linearly with the square of the password size; and further loops, which vary linearly as $password\\_size \\times rounds$.\n",
        "* This means an attacker could provide a maliciously large password at the login screen to attempt a DOS on a publically visible login. For example, a 32kb password would require hashing 1Gb of data. `Passlib` mitigates this by limiting the maximum password size to 4k by default.\n",
        "* An attacker could also theoretically determine a password’s size by observing the time taken on a successful login, and then attempting verification themselves to find the size password which has an equivalent delay. This has not been applied in practice, probably due to the fact that (for normal passwords $<64$ bytes), the contribution of the password size to the overall time taken is below the observable noise level when evesdropping on the timings of successful logins for a single user.\n",
        "\n",
        "Source: https://passlib.readthedocs.io/en/stable/lib/passlib.hash.sha256_crypt.html"
      ]
    },
    {
      "cell_type": "markdown",
      "metadata": {
        "id": "X4zshrod-Lee"
      },
      "source": [
        "## Cracking DES hashes\n",
        "\n",
        "A very intuitive way to crack a hash is by doing a **brute force attack**. This would consist mainly in exhaustively trying combinations of passwords and salts until a match is achieved.\n",
        "\n",
        "To implement a brute force attack for one-character long passwords, you can use the following code:"
      ]
    },
    {
      "cell_type": "code",
      "execution_count": 26,
      "metadata": {
        "id": "cZkF6bskp51f",
        "colab": {
          "base_uri": "https://localhost:8080/"
        },
        "outputId": "3c0264c4-1f2b-44ef-c6c5-a5bb8922b178"
      },
      "outputs": [
        {
          "output_type": "stream",
          "name": "stdout",
          "text": [
            "The password is: a\n",
            "Elapsed time to break the hash: 0.004839181900024414 seconds\n"
          ]
        }
      ],
      "source": [
        "## This is a function that performs a brute force attack on DES hashe with salt (i.e. deshash3)\n",
        "## In this scenario, you have the advantage of knowing that the password to break is one character long,\n",
        "## and that the size of the salt is two characters long\n",
        "## Moreover, we will use the time module to calculate the time that the machine takes to crack the hash.\n",
        "import time\n",
        "\n",
        "# 1. Declare strings in \"list_of_passchars\"\n",
        "list_of_passchars = \"0123456789abcdefghijklmnopqrstuvwxyzABCDEFGHIJKLMNOPQRSTUVWXYZ./\\-+%@,*\" # here you can have as many as you want\n",
        "def bruteForce(hashtobreak):\n",
        "    # 2. For all characters in list_of_passchars, hash with the salt\n",
        "    for k in list_of_passchars:\n",
        "        # 3. If there is a match, exit and return the charcter\n",
        "        if des_crypt.verify(k, hashtobreak) == True:\n",
        "            # 4. Return the broken password and the broken salt\n",
        "            return k\n",
        "\n",
        "t = time.time()\n",
        "deshash_break = des_crypt.hash(\"a\")\n",
        "brokenhash = bruteForce(deshash_break)\n",
        "print('The password is:', brokenhash)\n",
        "print('Elapsed time to break the hash:', time.time() - t,\"seconds\")"
      ]
    },
    {
      "cell_type": "markdown",
      "metadata": {
        "id": "a65EWpMc-Lef"
      },
      "source": [
        "In a Windows 10 machine with 16 GB RAM, it takes around 0.55 seconds to break the password. In Google Colab it takes 0.004 seconds!"
      ]
    },
    {
      "cell_type": "markdown",
      "metadata": {
        "id": "-R2VQupXpDRR"
      },
      "source": [
        "Now we try again, but with two characters (the code will fail saying that the password is `None`)"
      ]
    },
    {
      "cell_type": "code",
      "execution_count": 27,
      "metadata": {
        "id": "PN-upm2--Lef",
        "colab": {
          "base_uri": "https://localhost:8080/"
        },
        "outputId": "944890d7-e2b5-4ad0-b034-1bb891b06ae0"
      },
      "outputs": [
        {
          "output_type": "stream",
          "name": "stdout",
          "text": [
            "The password is: None\n",
            "Elapsed time to break the hash: 0.005141735076904297 seconds\n"
          ]
        }
      ],
      "source": [
        "## This is a function that performs a brute force attack on DES hashe with salt (i.e. deshash3)\n",
        "## In this scenario, you have the advantage of knowing that the password to break is one character long,\n",
        "## and that the size of the salt is two characters long\n",
        "## Moreover, we will use the time module to calculate the time that the machine takes to crack the hash.\n",
        "import time\n",
        "\n",
        "# 1. Declare strings in \"list_of_passchars\"\n",
        "list_of_passchars = \"0123456789abcdefghijklmnopqrstuvwxyzABCDEFGHIJKLMNOPQRSTUVWXYZ./\\-+%@,*\" # here you can have as many as you want\n",
        "def bruteForce(hashtobreak):\n",
        "    # 2. For all characters in list_of_passchars, hash with the salt\n",
        "    for k in list_of_passchars:\n",
        "        # 3. If there is a match, exit and return the charcter\n",
        "        if des_crypt.verify(k, hashtobreak) == True:\n",
        "            # 4. Return the broken password and the broken salt\n",
        "            return k\n",
        "\n",
        "t = time.time()\n",
        "deshash_break = des_crypt.hash(\"ab\")\n",
        "brokenhash = bruteForce(deshash_break)\n",
        "print('The password is:', brokenhash)\n",
        "print('Elapsed time to break the hash:', time.time() - t,\"seconds\")"
      ]
    },
    {
      "cell_type": "markdown",
      "metadata": {
        "id": "tMl9qTTWpL0W"
      },
      "source": [
        "Now we modify the function to also show the salt"
      ]
    },
    {
      "cell_type": "code",
      "execution_count": 28,
      "metadata": {
        "id": "N9udvox1pX7Z",
        "colab": {
          "base_uri": "https://localhost:8080/"
        },
        "outputId": "8d06b888-b880-49a5-d613-adae30049788"
      },
      "outputs": [
        {
          "output_type": "stream",
          "name": "stdout",
          "text": [
            "The password is: a\n",
            "The salt is: XX\n",
            "The hash is: XXvN4TwmfU6vk\n",
            "Elapsed time to break the hash: 0.008255481719970703 seconds\n"
          ]
        }
      ],
      "source": [
        "## This is a function that performs a brute force attack on DES hashe with salt (i.e. deshash3)\n",
        "## In this scenario, you have the advantage of knowing that the password to break is one character long,\n",
        "## and that the size of the salt is two characters long\n",
        "## Moreover, we will use the time module to calculate the time that the machine takes to crack the hash.\n",
        "import time\n",
        "\n",
        "# 1. Declare string  \"list_of_passchars\", we don't need salt since we'll take it from the hash.\n",
        "list_of_passchars = \"0123456789abcdefghijklmnopqrstuvwxyzABCDEFGHIJKLMNOPQRSTUVWXYZ./\\-+%@,*\" # here you can have as many as you want\n",
        "def bruteForce_new(hashtobreak):\n",
        "# 2. DIFFERENCE! NOW WE USE THE FIRST TWO CHARACTERS OF THE HASH AS THE SALT!\n",
        "  salt = hashtobreak[0:2]\n",
        "  # 3. For all characters in list_of_passchars, hash with the salt\n",
        "  for k in list_of_passchars:\n",
        "      # 4. If there is a match, exit and return the charcter\n",
        "      if des_crypt.verify(k, hashtobreak) == True:\n",
        "          # 5. Return the broken password and the broken salt\n",
        "          return k, salt\n",
        "\n",
        "t = time.time()\n",
        "deshash_break = des_crypt.hash(\"a\", salt='XX')\n",
        "brokenhash, brokensalt = bruteForce_new(deshash_break)\n",
        "print('The password is:', brokenhash)\n",
        "print('The salt is:', brokensalt)\n",
        "print('The hash is:', deshash_break)\n",
        "print('Elapsed time to break the hash:', time.time() - t,\"seconds\")"
      ]
    },
    {
      "cell_type": "markdown",
      "metadata": {
        "id": "-3r5pVpP-Leg"
      },
      "source": [
        "**TASK**: Modify the code to be able to crack hashes created with passwords more than one character long."
      ]
    },
    {
      "cell_type": "code",
      "execution_count": 29,
      "metadata": {
        "id": "IfNFKekG-Leg",
        "colab": {
          "base_uri": "https://localhost:8080/"
        },
        "outputId": "d61d096a-a752-4617-a484-26ef118093cd"
      },
      "outputs": [
        {
          "output_type": "stream",
          "name": "stdout",
          "text": [
            "The password is: 0\n",
            "The salt is: 01\n",
            "Elapsed time to break the hash:  0.007099628448486328\n",
            "The password is: 00\n",
            "The salt is: 02\n",
            "Elapsed time to break the hash:  0.011230707168579102\n",
            "The password is: 000\n",
            "The salt is: XX\n",
            "Elapsed time to break the hash:  0.22193026542663574\n",
            "The password is: 0000\n",
            "The salt is: 87\n",
            "Elapsed time to break the hash:  8.210660696029663\n"
          ]
        }
      ],
      "source": [
        "# Use this cell to write your improved code\n",
        "from passlib.hash import des_crypt\n",
        "import time\n",
        "\n",
        "# 1. Declare strings \"list_of_saltchars\" and \"list_of_passchars\"\n",
        "list_of_passchars = \"0123456789abcdefghijklmnopqrstuvwxyzABCDEFGHIJKLMNOPQRSTUVWXYZ./\\-+%@,*\" # here you can have as many as you want\n",
        "def bruteForceImproved(hashtobreak):\n",
        "    # 2. Get the salt\n",
        "    salt = hashtobreak[0:2]\n",
        "    # 3. For all characters in list_of_passchars, create a password by combining characters\n",
        "    password_size = 0\n",
        "    while True: # This while increments the size of the password indefinitely\n",
        "        password_size+=1\n",
        "        indexes = [0]*password_size # create a list to store the indexes to point\n",
        "        while sum(indexes)<(len(list_of_passchars)-1)*password_size:\n",
        "            k = ''\n",
        "            for a in indexes: # This for creates the password based on the values from the list indexes\n",
        "                k = k + list_of_passchars[a]\n",
        "            if des_crypt.verify(k, hashtobreak) == True:\n",
        "                return k, salt\n",
        "            # Increment the password vector\n",
        "            flag = False\n",
        "            for b, a in enumerate(indexes):\n",
        "                if a<len(list_of_passchars)-1 and flag == False:\n",
        "                    indexes[b]+=1\n",
        "                    if b>0:\n",
        "                        for c in range(len(indexes[:b])):\n",
        "                            indexes[c]=0\n",
        "                    flag = True\n",
        "\n",
        "###### 1-DIGIT PASSWORD\n",
        "t = time.time()\n",
        "## hash a new password\n",
        "deshash4 = des_crypt.hash('0', salt='01')\n",
        "## crack the password\n",
        "brokenhash, brokensalt = bruteForceImproved(deshash4)\n",
        "print('The password is:', brokenhash)\n",
        "print('The salt is:', brokensalt)\n",
        "print('Elapsed time to break the hash: ', time.time() - t)\n",
        "\n",
        "###### 2-DIGIT PASSWORD\n",
        "t = time.time()\n",
        "## hash a new password\n",
        "deshash4 = des_crypt.hash('00', salt='02')\n",
        "## crack the password\n",
        "brokenhash, brokensalt = bruteForceImproved(deshash4)\n",
        "print('The password is:', brokenhash)\n",
        "print('The salt is:', brokensalt)\n",
        "print('Elapsed time to break the hash: ', time.time() - t)\n",
        "\n",
        "###### 3-DIGIT PASSWORD\n",
        "t = time.time()\n",
        "## hash a new password\n",
        "deshash4 = des_crypt.hash('000', salt='XX')\n",
        "## crack the password\n",
        "brokenhash, brokensalt = bruteForceImproved(deshash4)\n",
        "print('The password is:', brokenhash)\n",
        "print('The salt is:', brokensalt)\n",
        "print('Elapsed time to break the hash: ', time.time() - t)\n",
        "\n",
        "###### 4-DIGIT PASSWORD\n",
        "t = time.time()\n",
        "## hash a new password\n",
        "deshash4 = des_crypt.hash('0000', salt='87')\n",
        "## crack the password\n",
        "brokenhash, brokensalt = bruteForceImproved(deshash4)\n",
        "print('The password is:', brokenhash)\n",
        "print('The salt is:', brokensalt)\n",
        "print('Elapsed time to break the hash: ', time.time() - t)"
      ]
    },
    {
      "cell_type": "markdown",
      "metadata": {
        "id": "W0JRpJGi-Leh"
      },
      "source": [
        "You can see there is a vast difference in time, particularly between cracking a 3-digit and a 4-digit password."
      ]
    }
  ],
  "metadata": {
    "colab": {
      "provenance": []
    },
    "kernelspec": {
      "display_name": "Python 3",
      "language": "python",
      "name": "python3"
    },
    "language_info": {
      "codemirror_mode": {
        "name": "ipython",
        "version": 3
      },
      "file_extension": ".py",
      "mimetype": "text/x-python",
      "name": "python",
      "nbconvert_exporter": "python",
      "pygments_lexer": "ipython3",
      "version": "3.6.0"
    }
  },
  "nbformat": 4,
  "nbformat_minor": 0
}